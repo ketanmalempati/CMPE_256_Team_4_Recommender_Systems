{
 "cells": [
  {
   "cell_type": "markdown",
   "id": "ff99b3e4",
   "metadata": {},
   "source": [
    "## Importing modules"
   ]
  },
  {
   "cell_type": "code",
   "execution_count": 1,
   "id": "4a6f854d",
   "metadata": {},
   "outputs": [],
   "source": [
    "import pandas as pd\n",
    "import numpy as np\n",
    "import random\n",
    "from surprise import accuracy\n",
    "from surprise import Dataset\n",
    "from surprise import Reader\n",
    "from surprise import SVD,SVDpp, SlopeOne, NMF, NormalPredictor, KNNBaseline, KNNBasic, KNNWithMeans, KNNWithZScore, BaselineOnly, CoClustering\n",
    "\n",
    "from surprise.model_selection import GridSearchCV\n",
    "from tqdm import tqdm\n",
    "import matplotlib.pyplot as plt\n",
    "from surprise.model_selection.validation import cross_validate"
   ]
  },
  {
   "cell_type": "markdown",
   "id": "84837974",
   "metadata": {},
   "source": [
    "## loading datasets"
   ]
  },
  {
   "cell_type": "code",
   "execution_count": 2,
   "id": "0dc38b81",
   "metadata": {},
   "outputs": [],
   "source": [
    "train_df = pd.read_csv(r\"C:\\Users\\pruth\\Downloads\\project\\interactions_train.csv\")\n",
    "\n",
    "test_df = pd.read_csv(r\"C:\\Users\\pruth\\Downloads\\project\\interactions_test.csv\")\n",
    "\n",
    "validation_df = pd.read_csv(r\"C:\\Users\\pruth\\Downloads\\project\\interactions_validation.csv\")\n",
    "\n",
    "recipie = pd.read_csv(r\"C:\\Users\\pruth\\Downloads\\project\\RAW_recipes.csv\")\n",
    "\n",
    "user = pd.read_csv(r\"C:\\Users\\pruth\\Downloads\\project\\RAW_interactions.csv\")"
   ]
  },
  {
   "cell_type": "code",
   "execution_count": 4,
   "id": "08bde93c",
   "metadata": {},
   "outputs": [
    {
     "data": {
      "text/plain": [
       "{'whiskers': [<matplotlib.lines.Line2D at 0x1d787225550>,\n",
       "  <matplotlib.lines.Line2D at 0x1d787225820>],\n",
       " 'caps': [<matplotlib.lines.Line2D at 0x1d787225af0>,\n",
       "  <matplotlib.lines.Line2D at 0x1d787225dc0>],\n",
       " 'boxes': [<matplotlib.lines.Line2D at 0x1d787225280>],\n",
       " 'medians': [<matplotlib.lines.Line2D at 0x1d7872390d0>],\n",
       " 'fliers': [<matplotlib.lines.Line2D at 0x1d7872393a0>],\n",
       " 'means': []}"
      ]
     },
     "execution_count": 4,
     "metadata": {},
     "output_type": "execute_result"
    },
    {
     "data": {
      "image/png": "[encoded data removed]",
      "text/plain": [
       "<Figure size 640x480 with 1 Axes>"
      ]
     },
     "metadata": {},
     "output_type": "display_data"
    }
   ],
   "source": [
    "# checking for outliers in ratings \n",
    "plt.boxplot(train_df[\"rating\"])\n"
   ]
  },
  {
   "cell_type": "markdown",
   "id": "6319a73e",
   "metadata": {},
   "source": [
    "## Building train and test sets"
   ]
  },
  {
   "cell_type": "markdown",
   "id": "b92c587d",
   "metadata": {},
   "source": [
    "## Reading the data and creating train test splits"
   ]
  },
  {
   "cell_type": "code",
   "execution_count": 7,
   "id": "0f2b9602",
   "metadata": {},
   "outputs": [
    {
     "data": {
      "text/html": [
       "<div>\n",
       "<style scoped>\n",
       "    .dataframe tbody tr th:only-of-type {\n",
       "        vertical-align: middle;\n",
       "    }\n",
       "\n",
       "    .dataframe tbody tr th {\n",
       "        vertical-align: top;\n",
       "    }\n",
       "\n",
       "    .dataframe thead th {\n",
       "        text-align: right;\n",
       "    }\n",
       "</style>\n",
       "<table border=\"1\" class=\"dataframe\">\n",
       "  <thead>\n",
       "    <tr style=\"text-align: right;\">\n",
       "      <th></th>\n",
       "      <th>user_id</th>\n",
       "      <th>recipe_id</th>\n",
       "      <th>date</th>\n",
       "      <th>rating</th>\n",
       "      <th>u</th>\n",
       "      <th>i</th>\n",
       "    </tr>\n",
       "  </thead>\n",
       "  <tbody>\n",
       "    <tr>\n",
       "      <th>0</th>\n",
       "      <td>8937</td>\n",
       "      <td>44551</td>\n",
       "      <td>2005-12-23</td>\n",
       "      <td>4.0</td>\n",
       "      <td>2</td>\n",
       "      <td>173538</td>\n",
       "    </tr>\n",
       "    <tr>\n",
       "      <th>1</th>\n",
       "      <td>56680</td>\n",
       "      <td>126118</td>\n",
       "      <td>2006-10-07</td>\n",
       "      <td>4.0</td>\n",
       "      <td>16</td>\n",
       "      <td>177847</td>\n",
       "    </tr>\n",
       "    <tr>\n",
       "      <th>2</th>\n",
       "      <td>349752</td>\n",
       "      <td>219596</td>\n",
       "      <td>2008-04-12</td>\n",
       "      <td>0.0</td>\n",
       "      <td>26</td>\n",
       "      <td>89896</td>\n",
       "    </tr>\n",
       "    <tr>\n",
       "      <th>3</th>\n",
       "      <td>628951</td>\n",
       "      <td>82783</td>\n",
       "      <td>2007-11-13</td>\n",
       "      <td>2.0</td>\n",
       "      <td>45</td>\n",
       "      <td>172637</td>\n",
       "    </tr>\n",
       "    <tr>\n",
       "      <th>4</th>\n",
       "      <td>92816</td>\n",
       "      <td>435013</td>\n",
       "      <td>2013-07-31</td>\n",
       "      <td>3.0</td>\n",
       "      <td>52</td>\n",
       "      <td>177935</td>\n",
       "    </tr>\n",
       "    <tr>\n",
       "      <th>...</th>\n",
       "      <td>...</td>\n",
       "      <td>...</td>\n",
       "      <td>...</td>\n",
       "      <td>...</td>\n",
       "      <td>...</td>\n",
       "      <td>...</td>\n",
       "    </tr>\n",
       "    <tr>\n",
       "      <th>12450</th>\n",
       "      <td>101053</td>\n",
       "      <td>179011</td>\n",
       "      <td>2009-01-03</td>\n",
       "      <td>5.0</td>\n",
       "      <td>25054</td>\n",
       "      <td>130258</td>\n",
       "    </tr>\n",
       "    <tr>\n",
       "      <th>12451</th>\n",
       "      <td>252205</td>\n",
       "      <td>81398</td>\n",
       "      <td>2005-12-26</td>\n",
       "      <td>2.0</td>\n",
       "      <td>25055</td>\n",
       "      <td>152255</td>\n",
       "    </tr>\n",
       "    <tr>\n",
       "      <th>12452</th>\n",
       "      <td>624305</td>\n",
       "      <td>142984</td>\n",
       "      <td>2011-01-15</td>\n",
       "      <td>1.0</td>\n",
       "      <td>25057</td>\n",
       "      <td>139864</td>\n",
       "    </tr>\n",
       "    <tr>\n",
       "      <th>12453</th>\n",
       "      <td>173575</td>\n",
       "      <td>104842</td>\n",
       "      <td>2004-12-18</td>\n",
       "      <td>3.0</td>\n",
       "      <td>25059</td>\n",
       "      <td>140646</td>\n",
       "    </tr>\n",
       "    <tr>\n",
       "      <th>12454</th>\n",
       "      <td>1249650</td>\n",
       "      <td>287280</td>\n",
       "      <td>2009-04-28</td>\n",
       "      <td>4.0</td>\n",
       "      <td>25070</td>\n",
       "      <td>166028</td>\n",
       "    </tr>\n",
       "  </tbody>\n",
       "</table>\n",
       "<p>12455 rows × 6 columns</p>\n",
       "</div>"
      ],
      "text/plain": [
       "       user_id  recipe_id        date  rating      u       i\n",
       "0         8937      44551  2005-12-23     4.0      2  173538\n",
       "1        56680     126118  2006-10-07     4.0     16  177847\n",
       "2       349752     219596  2008-04-12     0.0     26   89896\n",
       "3       628951      82783  2007-11-13     2.0     45  172637\n",
       "4        92816     435013  2013-07-31     3.0     52  177935\n",
       "...        ...        ...         ...     ...    ...     ...\n",
       "12450   101053     179011  2009-01-03     5.0  25054  130258\n",
       "12451   252205      81398  2005-12-26     2.0  25055  152255\n",
       "12452   624305     142984  2011-01-15     1.0  25057  139864\n",
       "12453   173575     104842  2004-12-18     3.0  25059  140646\n",
       "12454  1249650     287280  2009-04-28     4.0  25070  166028\n",
       "\n",
       "[12455 rows x 6 columns]"
      ]
     },
     "execution_count": 7,
     "metadata": {},
     "output_type": "execute_result"
    }
   ],
   "source": [
    "test_df"
   ]
  },
  {
   "cell_type": "code",
   "execution_count": 8,
   "id": "603f924f",
   "metadata": {},
   "outputs": [],
   "source": [
    "# adding the rating scale of 1 to 10\n",
    "reader = Reader(rating_scale=(1, 5))\n",
    "data = Dataset.load_from_df(train_df[[\"user_id\",\"recipe_id\",\"rating\"]], reader)\n",
    "raw_ratings = data.raw_ratings\n",
    "\n",
    "# re arranging the dataset\n",
    "random.shuffle(raw_ratings)\n",
    "\n",
    "# splitting the data set into 80:20 training and testing data set\n",
    "train_test_split_index = int(0.8 * len(raw_ratings))\n",
    "raw_ratings_train = raw_ratings[:]\n",
    "raw_ratings_test = raw_ratings[train_test_split_index:]\n",
    "\n",
    "# constructing the train set\n",
    "data.raw_ratings = raw_ratings_train  # assign the raw data back\n",
    "\n",
    "# constructing the test set\n",
    "testset = data.construct_testset(raw_ratings_test)"
   ]
  },
  {
   "cell_type": "markdown",
   "id": "6bfae0cc",
   "metadata": {},
   "source": [
    "## SVDpp model training and Evaluation"
   ]
  },
  {
   "cell_type": "code",
   "execution_count": 10,
   "id": "09c60e42",
   "metadata": {},
   "outputs": [
    {
     "name": "stderr",
     "output_type": "stream",
     "text": [
      "[Parallel(n_jobs=-1)]: Using backend LokyBackend with 16 concurrent workers.\n",
      "[Parallel(n_jobs=-1)]: Done   3 out of   6 | elapsed:   58.3s remaining:   58.3s\n",
      "[Parallel(n_jobs=-1)]: Done   6 out of   6 | elapsed:  1.0min finished\n"
     ]
    },
    {
     "name": "stdout",
     "output_type": "stream",
     "text": [
      "{'rmse': {'n_factors': 1, 'n_epochs': 10, 'lr_all': 0.005, 'reg_all': 0.2}}\n",
      "RMSE: 0.8665\n"
     ]
    }
   ],
   "source": [
    "\"\"\"\n",
    "SVDpp parameters\n",
    "N_factors: The number of factors.\n",
    "N_epochs: The number of iterations of the SGD procedure.\n",
    "lr_all – The learning rate for all parameters.\n",
    "reg_all – The regularization term for all parameters.\n",
    "\"\"\"\n",
    "\n",
    "# constructing different parameter with different range of values\n",
    "### note: these values are changed in the whole process of training to arrive at this specific values based on rmse scores.\n",
    "svdpp_params = {\n",
    "    \"n_factors\":[1,2], \n",
    "    \"n_epochs\":[10], \n",
    "    \"lr_all\":[0.005], \n",
    "    \"reg_all\":[0.2]\n",
    "    }\n",
    "\n",
    "# using grid search cv with above parameters with cross validation of 3 and refit = True\n",
    "grid_search = GridSearchCV(\n",
    "    SVDpp,\n",
    "    param_grid = svdpp_params,\n",
    "    measures=[\"rmse\"],\n",
    "    cv=3, \n",
    "    refit=True,\n",
    "    n_jobs=-1,\n",
    "    joblib_verbose=1\n",
    ")\n",
    "\n",
    "# fitting the data \n",
    "grid_search.fit(data)\n",
    "\n",
    "# getting best model out of the grid search and best parameters\n",
    "best_model = grid_search.best_estimator[\"rmse\"]\n",
    "print(grid_search.best_params)\n",
    "\n",
    "# a sample prediction to check the model prediction of a user and book\n",
    "best_model.predict(uid=51757, iid=112562)\n",
    "\n",
    "# calculating rmse on test set\n",
    "testset_predictions = best_model.test(testset)\n",
    "accuracy.rmse(testset_predictions)\n",
    "\n",
    "# pickle the model in case the run time stop in between \n",
    "import pickle\n",
    "with open(r\"C:\\Users\\pruth\\Downloads\\adm\\kaggle_best5.pickle\", 'wb') as f:\n",
    "    pickle.dump(best_model, f)"
   ]
  },
  {
   "cell_type": "code",
   "execution_count": 12,
   "id": "c2c5fd55",
   "metadata": {},
   "outputs": [
    {
     "name": "stdout",
     "output_type": "stream",
     "text": [
      "RMSE: 0.8665\n"
     ]
    },
    {
     "data": {
      "text/plain": [
       "0.8664705733960713"
      ]
     },
     "execution_count": 12,
     "metadata": {},
     "output_type": "execute_result"
    }
   ],
   "source": [
    "accuracy.rmse(testset_predictions)\n"
   ]
  }
 ],
 "metadata": {
  "kernelspec": {
   "display_name": "Python 3 (ipykernel)",
   "language": "python",
   "name": "python3"
  },
  "language_info": {
   "codemirror_mode": {
    "name": "ipython",
    "version": 3
   },
   "file_extension": ".py",
   "mimetype": "text/x-python",
   "name": "python",
   "nbconvert_exporter": "python",
   "pygments_lexer": "ipython3",
   "version": "3.9.13"
  }
 },
 "nbformat": 4,
 "nbformat_minor": 5
}
