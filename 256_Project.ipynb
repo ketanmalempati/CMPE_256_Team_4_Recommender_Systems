{
 "cells": [
  {
   "cell_type": "markdown",
   "id": "3a711294",
   "metadata": {},
   "source": [
    "## Importing all the required libraries and modules"
   ]
  },
  {
   "cell_type": "code",
   "execution_count": 1,
   "id": "4856ead7",
   "metadata": {},
   "outputs": [],
   "source": [
    "import pandas as pd\n",
    "import numpy as np\n",
    "import matplotlib.pyplot as plt\n",
    "import sklearn\n",
    "import seaborn as sns\n",
    "import matplotlib.pyplot as plt\n",
    "import os\n",
    "import tensorflow as tf\n",
    "from tensorflow.keras.layers import Input, Embedding, Flatten, Concatenate, Dense, Dropout\n",
    "from tensorflow.keras.models import Model\n",
    "from sklearn.preprocessing import LabelEncoder\n",
    "from sklearn.metrics import mean_squared_error"
   ]
  },
  {
   "cell_type": "code",
   "execution_count": 2,
   "id": "40d58cd8",
   "metadata": {},
   "outputs": [],
   "source": [
    "from itertools import chain\n",
    "from nltk.stem import PorterStemmer\n",
    "from wordcloud import WordCloud, STOPWORDS\n",
    "import matplotlib.pyplot as plt"
   ]
  },
  {
   "cell_type": "markdown",
   "id": "d6af4ccb",
   "metadata": {},
   "source": [
    "## Reading the dataset"
   ]
  },
  {
   "cell_type": "code",
   "execution_count": 7,
   "id": "15a7eba3",
   "metadata": {},
   "outputs": [
    {
     "data": {
      "text/plain": [
       "'C:\\\\Users\\\\Checkout\\\\Downloads'"
      ]
     },
     "execution_count": 7,
     "metadata": {},
     "output_type": "execute_result"
    }
   ],
   "source": [
    "/pwd"
   ]
  },
  {
   "cell_type": "code",
   "execution_count": 3,
   "id": "3410f875",
   "metadata": {},
   "outputs": [],
   "source": [
    "dir = \"C:/Users/pruth/Downloads/project/\"\n",
    "Food_Ratings = pd.read_csv(dir+'RAW_interactions.csv')\n",
    "Food_Recipes = pd.read_csv(dir+'RAW_recipes.csv')\n",
    "Food_pp_users = pd.read_csv(dir+'PP_users.csv')\n",
    "Food_pp_recipes = pd.read_csv(dir+'PP_recipes.csv')\n",
    "Food_interactions_validation = pd.read_csv(dir+'interactions_validation.csv')\n",
    "Food_interactions_train = pd.read_csv(dir+'interactions_train.csv')\n",
    "Food_interactions_test = pd.read_csv(dir+'interactions_test.csv')"
   ]
  },
  {
   "cell_type": "markdown",
   "id": "b9a97446",
   "metadata": {},
   "source": [
    "## Preprocessing/EDA"
   ]
  },
  {
   "cell_type": "code",
   "execution_count": 4,
   "id": "050bc841",
   "metadata": {},
   "outputs": [
    {
     "data": {
      "text/html": [
       "<div>\n",
       "<style scoped>\n",
       "    .dataframe tbody tr th:only-of-type {\n",
       "        vertical-align: middle;\n",
       "    }\n",
       "\n",
       "    .dataframe tbody tr th {\n",
       "        vertical-align: top;\n",
       "    }\n",
       "\n",
       "    .dataframe thead th {\n",
       "        text-align: right;\n",
       "    }\n",
       "</style>\n",
       "<table border=\"1\" class=\"dataframe\">\n",
       "  <thead>\n",
       "    <tr style=\"text-align: right;\">\n",
       "      <th></th>\n",
       "      <th>name</th>\n",
       "      <th>id</th>\n",
       "      <th>minutes</th>\n",
       "      <th>contributor_id</th>\n",
       "      <th>submitted</th>\n",
       "      <th>tags</th>\n",
       "      <th>nutrition</th>\n",
       "      <th>n_steps</th>\n",
       "      <th>steps</th>\n",
       "      <th>description</th>\n",
       "      <th>ingredients</th>\n",
       "      <th>n_ingredients</th>\n",
       "    </tr>\n",
       "  </thead>\n",
       "  <tbody>\n",
       "    <tr>\n",
       "      <th>0</th>\n",
       "      <td>arriba   baked winter squash mexican style</td>\n",
       "      <td>137739</td>\n",
       "      <td>55</td>\n",
       "      <td>47892</td>\n",
       "      <td>2005-09-16</td>\n",
       "      <td>['60-minutes-or-less', 'time-to-make', 'course...</td>\n",
       "      <td>[51.5, 0.0, 13.0, 0.0, 2.0, 0.0, 4.0]</td>\n",
       "      <td>11</td>\n",
       "      <td>['make a choice and proceed with recipe', 'dep...</td>\n",
       "      <td>autumn is my favorite time of year to cook! th...</td>\n",
       "      <td>['winter squash', 'mexican seasoning', 'mixed ...</td>\n",
       "      <td>7</td>\n",
       "    </tr>\n",
       "    <tr>\n",
       "      <th>1</th>\n",
       "      <td>a bit different  breakfast pizza</td>\n",
       "      <td>31490</td>\n",
       "      <td>30</td>\n",
       "      <td>26278</td>\n",
       "      <td>2002-06-17</td>\n",
       "      <td>['30-minutes-or-less', 'time-to-make', 'course...</td>\n",
       "      <td>[173.4, 18.0, 0.0, 17.0, 22.0, 35.0, 1.0]</td>\n",
       "      <td>9</td>\n",
       "      <td>['preheat oven to 425 degrees f', 'press dough...</td>\n",
       "      <td>this recipe calls for the crust to be prebaked...</td>\n",
       "      <td>['prepared pizza crust', 'sausage patty', 'egg...</td>\n",
       "      <td>6</td>\n",
       "    </tr>\n",
       "    <tr>\n",
       "      <th>2</th>\n",
       "      <td>all in the kitchen  chili</td>\n",
       "      <td>112140</td>\n",
       "      <td>130</td>\n",
       "      <td>196586</td>\n",
       "      <td>2005-02-25</td>\n",
       "      <td>['time-to-make', 'course', 'preparation', 'mai...</td>\n",
       "      <td>[269.8, 22.0, 32.0, 48.0, 39.0, 27.0, 5.0]</td>\n",
       "      <td>6</td>\n",
       "      <td>['brown ground beef in large pot', 'add choppe...</td>\n",
       "      <td>this modified version of 'mom's' chili was a h...</td>\n",
       "      <td>['ground beef', 'yellow onions', 'diced tomato...</td>\n",
       "      <td>13</td>\n",
       "    </tr>\n",
       "    <tr>\n",
       "      <th>3</th>\n",
       "      <td>alouette  potatoes</td>\n",
       "      <td>59389</td>\n",
       "      <td>45</td>\n",
       "      <td>68585</td>\n",
       "      <td>2003-04-14</td>\n",
       "      <td>['60-minutes-or-less', 'time-to-make', 'course...</td>\n",
       "      <td>[368.1, 17.0, 10.0, 2.0, 14.0, 8.0, 20.0]</td>\n",
       "      <td>11</td>\n",
       "      <td>['place potatoes in a large pot of lightly sal...</td>\n",
       "      <td>this is a super easy, great tasting, make ahea...</td>\n",
       "      <td>['spreadable cheese with garlic and herbs', 'n...</td>\n",
       "      <td>11</td>\n",
       "    </tr>\n",
       "    <tr>\n",
       "      <th>4</th>\n",
       "      <td>amish  tomato ketchup  for canning</td>\n",
       "      <td>44061</td>\n",
       "      <td>190</td>\n",
       "      <td>41706</td>\n",
       "      <td>2002-10-25</td>\n",
       "      <td>['weeknight', 'time-to-make', 'course', 'main-...</td>\n",
       "      <td>[352.9, 1.0, 337.0, 23.0, 3.0, 0.0, 28.0]</td>\n",
       "      <td>5</td>\n",
       "      <td>['mix all ingredients&amp; boil for 2 1 / 2 hours ...</td>\n",
       "      <td>my dh's amish mother raised him on this recipe...</td>\n",
       "      <td>['tomato juice', 'apple cider vinegar', 'sugar...</td>\n",
       "      <td>8</td>\n",
       "    </tr>\n",
       "  </tbody>\n",
       "</table>\n",
       "</div>"
      ],
      "text/plain": [
       "                                         name      id  minutes  \\\n",
       "0  arriba   baked winter squash mexican style  137739       55   \n",
       "1            a bit different  breakfast pizza   31490       30   \n",
       "2                   all in the kitchen  chili  112140      130   \n",
       "3                          alouette  potatoes   59389       45   \n",
       "4          amish  tomato ketchup  for canning   44061      190   \n",
       "\n",
       "   contributor_id   submitted  \\\n",
       "0           47892  2005-09-16   \n",
       "1           26278  2002-06-17   \n",
       "2          196586  2005-02-25   \n",
       "3           68585  2003-04-14   \n",
       "4           41706  2002-10-25   \n",
       "\n",
       "                                                tags  \\\n",
       "0  ['60-minutes-or-less', 'time-to-make', 'course...   \n",
       "1  ['30-minutes-or-less', 'time-to-make', 'course...   \n",
       "2  ['time-to-make', 'course', 'preparation', 'mai...   \n",
       "3  ['60-minutes-or-less', 'time-to-make', 'course...   \n",
       "4  ['weeknight', 'time-to-make', 'course', 'main-...   \n",
       "\n",
       "                                    nutrition  n_steps  \\\n",
       "0       [51.5, 0.0, 13.0, 0.0, 2.0, 0.0, 4.0]       11   \n",
       "1   [173.4, 18.0, 0.0, 17.0, 22.0, 35.0, 1.0]        9   \n",
       "2  [269.8, 22.0, 32.0, 48.0, 39.0, 27.0, 5.0]        6   \n",
       "3   [368.1, 17.0, 10.0, 2.0, 14.0, 8.0, 20.0]       11   \n",
       "4   [352.9, 1.0, 337.0, 23.0, 3.0, 0.0, 28.0]        5   \n",
       "\n",
       "                                               steps  \\\n",
       "0  ['make a choice and proceed with recipe', 'dep...   \n",
       "1  ['preheat oven to 425 degrees f', 'press dough...   \n",
       "2  ['brown ground beef in large pot', 'add choppe...   \n",
       "3  ['place potatoes in a large pot of lightly sal...   \n",
       "4  ['mix all ingredients& boil for 2 1 / 2 hours ...   \n",
       "\n",
       "                                         description  \\\n",
       "0  autumn is my favorite time of year to cook! th...   \n",
       "1  this recipe calls for the crust to be prebaked...   \n",
       "2  this modified version of 'mom's' chili was a h...   \n",
       "3  this is a super easy, great tasting, make ahea...   \n",
       "4  my dh's amish mother raised him on this recipe...   \n",
       "\n",
       "                                         ingredients  n_ingredients  \n",
       "0  ['winter squash', 'mexican seasoning', 'mixed ...              7  \n",
       "1  ['prepared pizza crust', 'sausage patty', 'egg...              6  \n",
       "2  ['ground beef', 'yellow onions', 'diced tomato...             13  \n",
       "3  ['spreadable cheese with garlic and herbs', 'n...             11  \n",
       "4  ['tomato juice', 'apple cider vinegar', 'sugar...              8  "
      ]
     },
     "execution_count": 4,
     "metadata": {},
     "output_type": "execute_result"
    }
   ],
   "source": [
    "Food_Recipes.head()"
   ]
  },
  {
   "cell_type": "code",
   "execution_count": 5,
   "id": "ca1905f3",
   "metadata": {},
   "outputs": [
    {
     "data": {
      "text/html": [
       "<div>\n",
       "<style scoped>\n",
       "    .dataframe tbody tr th:only-of-type {\n",
       "        vertical-align: middle;\n",
       "    }\n",
       "\n",
       "    .dataframe tbody tr th {\n",
       "        vertical-align: top;\n",
       "    }\n",
       "\n",
       "    .dataframe thead th {\n",
       "        text-align: right;\n",
       "    }\n",
       "</style>\n",
       "<table border=\"1\" class=\"dataframe\">\n",
       "  <thead>\n",
       "    <tr style=\"text-align: right;\">\n",
       "      <th></th>\n",
       "      <th>user_id</th>\n",
       "      <th>recipe_id</th>\n",
       "      <th>date</th>\n",
       "      <th>rating</th>\n",
       "      <th>review</th>\n",
       "    </tr>\n",
       "  </thead>\n",
       "  <tbody>\n",
       "    <tr>\n",
       "      <th>0</th>\n",
       "      <td>38094</td>\n",
       "      <td>40893</td>\n",
       "      <td>2003-02-17</td>\n",
       "      <td>4</td>\n",
       "      <td>Great with a salad. Cooked on top of stove for...</td>\n",
       "    </tr>\n",
       "    <tr>\n",
       "      <th>1</th>\n",
       "      <td>1293707</td>\n",
       "      <td>40893</td>\n",
       "      <td>2011-12-21</td>\n",
       "      <td>5</td>\n",
       "      <td>So simple, so delicious! Great for chilly fall...</td>\n",
       "    </tr>\n",
       "    <tr>\n",
       "      <th>2</th>\n",
       "      <td>8937</td>\n",
       "      <td>44394</td>\n",
       "      <td>2002-12-01</td>\n",
       "      <td>4</td>\n",
       "      <td>This worked very well and is EASY.  I used not...</td>\n",
       "    </tr>\n",
       "    <tr>\n",
       "      <th>3</th>\n",
       "      <td>126440</td>\n",
       "      <td>85009</td>\n",
       "      <td>2010-02-27</td>\n",
       "      <td>5</td>\n",
       "      <td>I made the Mexican topping and took it to bunk...</td>\n",
       "    </tr>\n",
       "    <tr>\n",
       "      <th>4</th>\n",
       "      <td>57222</td>\n",
       "      <td>85009</td>\n",
       "      <td>2011-10-01</td>\n",
       "      <td>5</td>\n",
       "      <td>Made the cheddar bacon topping, adding a sprin...</td>\n",
       "    </tr>\n",
       "  </tbody>\n",
       "</table>\n",
       "</div>"
      ],
      "text/plain": [
       "   user_id  recipe_id        date  rating  \\\n",
       "0    38094      40893  2003-02-17       4   \n",
       "1  1293707      40893  2011-12-21       5   \n",
       "2     8937      44394  2002-12-01       4   \n",
       "3   126440      85009  2010-02-27       5   \n",
       "4    57222      85009  2011-10-01       5   \n",
       "\n",
       "                                              review  \n",
       "0  Great with a salad. Cooked on top of stove for...  \n",
       "1  So simple, so delicious! Great for chilly fall...  \n",
       "2  This worked very well and is EASY.  I used not...  \n",
       "3  I made the Mexican topping and took it to bunk...  \n",
       "4  Made the cheddar bacon topping, adding a sprin...  "
      ]
     },
     "execution_count": 5,
     "metadata": {},
     "output_type": "execute_result"
    }
   ],
   "source": [
    "Food_Ratings.head()"
   ]
  },
  {
   "cell_type": "code",
   "execution_count": 6,
   "id": "3e09b4cf",
   "metadata": {},
   "outputs": [
    {
     "data": {
      "text/plain": [
       "user_id        0\n",
       "recipe_id      0\n",
       "date           0\n",
       "rating         0\n",
       "review       169\n",
       "dtype: int64"
      ]
     },
     "execution_count": 6,
     "metadata": {},
     "output_type": "execute_result"
    }
   ],
   "source": [
    "Food_Ratings.isna().sum()"
   ]
  },
  {
   "cell_type": "code",
   "execution_count": 7,
   "id": "d60cae53",
   "metadata": {},
   "outputs": [
    {
     "data": {
      "text/plain": [
       "name                 1\n",
       "id                   0\n",
       "minutes              0\n",
       "contributor_id       0\n",
       "submitted            0\n",
       "tags                 0\n",
       "nutrition            0\n",
       "n_steps              0\n",
       "steps                0\n",
       "description       4979\n",
       "ingredients          0\n",
       "n_ingredients        0\n",
       "dtype: int64"
      ]
     },
     "execution_count": 7,
     "metadata": {},
     "output_type": "execute_result"
    }
   ],
   "source": [
    "Food_Recipes.isna().sum()"
   ]
  },
  {
   "cell_type": "code",
   "execution_count": 8,
   "id": "789931bf",
   "metadata": {},
   "outputs": [],
   "source": [
    "Food_Recipes.dropna(inplace=True)"
   ]
  },
  {
   "cell_type": "code",
   "execution_count": 9,
   "id": "86b5ac03",
   "metadata": {},
   "outputs": [
    {
     "data": {
      "text/plain": [
       "name              0\n",
       "id                0\n",
       "minutes           0\n",
       "contributor_id    0\n",
       "submitted         0\n",
       "tags              0\n",
       "nutrition         0\n",
       "n_steps           0\n",
       "steps             0\n",
       "description       0\n",
       "ingredients       0\n",
       "n_ingredients     0\n",
       "dtype: int64"
      ]
     },
     "execution_count": 9,
     "metadata": {},
     "output_type": "execute_result"
    }
   ],
   "source": [
    "Food_Recipes.isna().sum()"
   ]
  },
  {
   "cell_type": "code",
   "execution_count": 6,
   "id": "4423ea3a",
   "metadata": {},
   "outputs": [],
   "source": [
    "# WordCloud of the decription column"
   ]
  },
  {
   "cell_type": "code",
   "execution_count": 10,
   "id": "f6704045",
   "metadata": {},
   "outputs": [],
   "source": [
    "allwords = \" \".join(Food_Recipes[\"description\"])"
   ]
  },
  {
   "cell_type": "code",
   "execution_count": 11,
   "id": "5d2c92a3",
   "metadata": {},
   "outputs": [
    {
     "data": {
      "image/png": "[encoded data removed]",
      "text/plain": [
       "<Figure size 640x480 with 1 Axes>"
      ]
     },
     "metadata": {},
     "output_type": "display_data"
    },
    {
     "data": {
      "image/png": "[encoded data removed]",
      "text/plain": [
       "<Figure size 700x700 with 1 Axes>"
      ]
     },
     "metadata": {},
     "output_type": "display_data"
    }
   ],
   "source": [
    "wordcloud = WordCloud(width = 400, height = 400, \n",
    "                    background_color ='white', \n",
    "                    stopwords = set(STOPWORDS), \n",
    "                    min_font_size = 10).generate(allwords)\n",
    "\n",
    "plt.axis(\"off\") \n",
    "plt.tight_layout(pad = 0) \n",
    "\n",
    "plt.figure(figsize = (7, 7), facecolor = 'white', edgecolor='blue') \n",
    "plt.imshow(wordcloud) \n",
    "\n",
    "plt.show()"
   ]
  },
  {
   "cell_type": "markdown",
   "id": "d68f325f",
   "metadata": {},
   "source": [
    "## Importing the libraries required for Embedding and Neural Networks"
   ]
  },
  {
   "cell_type": "code",
   "execution_count": 12,
   "id": "a76bb970",
   "metadata": {},
   "outputs": [],
   "source": [
    "import tensorflow as tf\n",
    "from tensorflow.keras.layers import Dense, Flatten, Input, Embedding, Concatenate, Dropout\n",
    "from tensorflow.keras.callbacks import EarlyStopping\n",
    "from tensorflow.keras.optimizers import Adam\n",
    "import keras\n",
    "from keras.layers import Add, Activation, Lambda, BatchNormalization, Concatenate, Dropout, Input, Embedding, Dot, Reshape, Dense, Flatten\n",
    "from keras import regularizers\n",
    "from sklearn.feature_extraction.text import CountVectorizer"
   ]
  },
  {
   "cell_type": "code",
   "execution_count": 13,
   "id": "6809b598",
   "metadata": {},
   "outputs": [],
   "source": [
    "from sklearn.feature_extraction.text import TfidfVectorizer\n",
    "from sklearn.decomposition import TruncatedSVD"
   ]
  },
  {
   "cell_type": "code",
   "execution_count": 14,
   "id": "43d8f89b",
   "metadata": {},
   "outputs": [
    {
     "data": {
      "text/plain": [
       "0"
      ]
     },
     "execution_count": 14,
     "metadata": {},
     "output_type": "execute_result"
    }
   ],
   "source": [
    "Food_Recipes[\"description\"].isna().sum()"
   ]
  },
  {
   "cell_type": "code",
   "execution_count": 15,
   "id": "23b8c481",
   "metadata": {},
   "outputs": [
    {
     "data": {
      "text/plain": [
       "(226657, 100)"
      ]
     },
     "execution_count": 15,
     "metadata": {},
     "output_type": "execute_result"
    }
   ],
   "source": [
    "vectorizer = TfidfVectorizer(max_features = 1000)\n",
    "\n",
    "# fit the vectorizer on the documents to create the term-document matrix\n",
    "X = vectorizer.fit_transform(Food_Recipes[\"description\"])\n",
    "\n",
    "# create a TruncatedSVD instance with the desired number of components\n",
    "lsa = TruncatedSVD(n_components=100)\n",
    "\n",
    "# fit the LSA model on the term-document matrix to generate embeddings\n",
    "embeddings = lsa.fit_transform(X)\n",
    "embeddings.shape"
   ]
  },
  {
   "cell_type": "code",
   "execution_count": 16,
   "id": "a82480fc",
   "metadata": {},
   "outputs": [],
   "source": [
    "embeddings = pd.DataFrame(embeddings)\n",
    "Food_Recipes2 = pd.concat([Food_Recipes, embeddings], axis=1)"
   ]
  },
  {
   "cell_type": "code",
   "execution_count": 17,
   "id": "3d361a81",
   "metadata": {},
   "outputs": [],
   "source": [
    "Food_Recipes2.dropna(inplace= True)"
   ]
  },
  {
   "cell_type": "code",
   "execution_count": 18,
   "id": "0546d4e7",
   "metadata": {},
   "outputs": [],
   "source": [
    "Food_Recipes2.id = Food_Recipes2.id.astype('int')"
   ]
  },
  {
   "cell_type": "markdown",
   "id": "01b4366a",
   "metadata": {},
   "source": [
    "### Merging two datasets raw_interactions and raw_recipes on recipe_id for embedding the description"
   ]
  },
  {
   "cell_type": "code",
   "execution_count": 19,
   "id": "b84d3922",
   "metadata": {},
   "outputs": [
    {
     "data": {
      "text/html": [
       "<div>\n",
       "<style scoped>\n",
       "    .dataframe tbody tr th:only-of-type {\n",
       "        vertical-align: middle;\n",
       "    }\n",
       "\n",
       "    .dataframe tbody tr th {\n",
       "        vertical-align: top;\n",
       "    }\n",
       "\n",
       "    .dataframe thead th {\n",
       "        text-align: right;\n",
       "    }\n",
       "</style>\n",
       "<table border=\"1\" class=\"dataframe\">\n",
       "  <thead>\n",
       "    <tr style=\"text-align: right;\">\n",
       "      <th></th>\n",
       "      <th>user_id</th>\n",
       "      <th>recipe_id</th>\n",
       "      <th>date</th>\n",
       "      <th>rating</th>\n",
       "      <th>review</th>\n",
       "      <th>name</th>\n",
       "      <th>minutes</th>\n",
       "      <th>contributor_id</th>\n",
       "      <th>submitted</th>\n",
       "      <th>tags</th>\n",
       "      <th>...</th>\n",
       "      <th>90</th>\n",
       "      <th>91</th>\n",
       "      <th>92</th>\n",
       "      <th>93</th>\n",
       "      <th>94</th>\n",
       "      <th>95</th>\n",
       "      <th>96</th>\n",
       "      <th>97</th>\n",
       "      <th>98</th>\n",
       "      <th>99</th>\n",
       "    </tr>\n",
       "  </thead>\n",
       "  <tbody>\n",
       "    <tr>\n",
       "      <th>0</th>\n",
       "      <td>38094</td>\n",
       "      <td>40893</td>\n",
       "      <td>2003-02-17</td>\n",
       "      <td>4</td>\n",
       "      <td>Great with a salad. Cooked on top of stove for...</td>\n",
       "      <td>white bean   green chile pepper soup</td>\n",
       "      <td>495.0</td>\n",
       "      <td>1533.0</td>\n",
       "      <td>2002-09-21</td>\n",
       "      <td>['weeknight', 'time-to-make', 'course', 'main-...</td>\n",
       "      <td>...</td>\n",
       "      <td>-0.035307</td>\n",
       "      <td>-0.063383</td>\n",
       "      <td>0.064998</td>\n",
       "      <td>-0.035071</td>\n",
       "      <td>-0.000654</td>\n",
       "      <td>0.023294</td>\n",
       "      <td>-0.040405</td>\n",
       "      <td>0.033900</td>\n",
       "      <td>-0.012999</td>\n",
       "      <td>0.060714</td>\n",
       "    </tr>\n",
       "    <tr>\n",
       "      <th>1</th>\n",
       "      <td>1293707</td>\n",
       "      <td>40893</td>\n",
       "      <td>2011-12-21</td>\n",
       "      <td>5</td>\n",
       "      <td>So simple, so delicious! Great for chilly fall...</td>\n",
       "      <td>white bean   green chile pepper soup</td>\n",
       "      <td>495.0</td>\n",
       "      <td>1533.0</td>\n",
       "      <td>2002-09-21</td>\n",
       "      <td>['weeknight', 'time-to-make', 'course', 'main-...</td>\n",
       "      <td>...</td>\n",
       "      <td>-0.035307</td>\n",
       "      <td>-0.063383</td>\n",
       "      <td>0.064998</td>\n",
       "      <td>-0.035071</td>\n",
       "      <td>-0.000654</td>\n",
       "      <td>0.023294</td>\n",
       "      <td>-0.040405</td>\n",
       "      <td>0.033900</td>\n",
       "      <td>-0.012999</td>\n",
       "      <td>0.060714</td>\n",
       "    </tr>\n",
       "    <tr>\n",
       "      <th>2</th>\n",
       "      <td>8937</td>\n",
       "      <td>44394</td>\n",
       "      <td>2002-12-01</td>\n",
       "      <td>4</td>\n",
       "      <td>This worked very well and is EASY.  I used not...</td>\n",
       "      <td>NaN</td>\n",
       "      <td>NaN</td>\n",
       "      <td>NaN</td>\n",
       "      <td>NaN</td>\n",
       "      <td>NaN</td>\n",
       "      <td>...</td>\n",
       "      <td>NaN</td>\n",
       "      <td>NaN</td>\n",
       "      <td>NaN</td>\n",
       "      <td>NaN</td>\n",
       "      <td>NaN</td>\n",
       "      <td>NaN</td>\n",
       "      <td>NaN</td>\n",
       "      <td>NaN</td>\n",
       "      <td>NaN</td>\n",
       "      <td>NaN</td>\n",
       "    </tr>\n",
       "    <tr>\n",
       "      <th>3</th>\n",
       "      <td>126440</td>\n",
       "      <td>85009</td>\n",
       "      <td>2010-02-27</td>\n",
       "      <td>5</td>\n",
       "      <td>I made the Mexican topping and took it to bunk...</td>\n",
       "      <td>baked potato toppings</td>\n",
       "      <td>10.0</td>\n",
       "      <td>64342.0</td>\n",
       "      <td>2004-02-25</td>\n",
       "      <td>['15-minutes-or-less', 'time-to-make', 'course...</td>\n",
       "      <td>...</td>\n",
       "      <td>0.000269</td>\n",
       "      <td>0.018464</td>\n",
       "      <td>0.015813</td>\n",
       "      <td>0.001940</td>\n",
       "      <td>-0.100744</td>\n",
       "      <td>-0.057357</td>\n",
       "      <td>-0.015353</td>\n",
       "      <td>0.033562</td>\n",
       "      <td>0.018343</td>\n",
       "      <td>0.000961</td>\n",
       "    </tr>\n",
       "    <tr>\n",
       "      <th>4</th>\n",
       "      <td>57222</td>\n",
       "      <td>85009</td>\n",
       "      <td>2011-10-01</td>\n",
       "      <td>5</td>\n",
       "      <td>Made the cheddar bacon topping, adding a sprin...</td>\n",
       "      <td>baked potato toppings</td>\n",
       "      <td>10.0</td>\n",
       "      <td>64342.0</td>\n",
       "      <td>2004-02-25</td>\n",
       "      <td>['15-minutes-or-less', 'time-to-make', 'course...</td>\n",
       "      <td>...</td>\n",
       "      <td>0.000269</td>\n",
       "      <td>0.018464</td>\n",
       "      <td>0.015813</td>\n",
       "      <td>0.001940</td>\n",
       "      <td>-0.100744</td>\n",
       "      <td>-0.057357</td>\n",
       "      <td>-0.015353</td>\n",
       "      <td>0.033562</td>\n",
       "      <td>0.018343</td>\n",
       "      <td>0.000961</td>\n",
       "    </tr>\n",
       "  </tbody>\n",
       "</table>\n",
       "<p>5 rows × 116 columns</p>\n",
       "</div>"
      ],
      "text/plain": [
       "   user_id  recipe_id        date  rating  \\\n",
       "0    38094      40893  2003-02-17       4   \n",
       "1  1293707      40893  2011-12-21       5   \n",
       "2     8937      44394  2002-12-01       4   \n",
       "3   126440      85009  2010-02-27       5   \n",
       "4    57222      85009  2011-10-01       5   \n",
       "\n",
       "                                              review  \\\n",
       "0  Great with a salad. Cooked on top of stove for...   \n",
       "1  So simple, so delicious! Great for chilly fall...   \n",
       "2  This worked very well and is EASY.  I used not...   \n",
       "3  I made the Mexican topping and took it to bunk...   \n",
       "4  Made the cheddar bacon topping, adding a sprin...   \n",
       "\n",
       "                                   name  minutes  contributor_id   submitted  \\\n",
       "0  white bean   green chile pepper soup    495.0          1533.0  2002-09-21   \n",
       "1  white bean   green chile pepper soup    495.0          1533.0  2002-09-21   \n",
       "2                                   NaN      NaN             NaN         NaN   \n",
       "3                 baked potato toppings     10.0         64342.0  2004-02-25   \n",
       "4                 baked potato toppings     10.0         64342.0  2004-02-25   \n",
       "\n",
       "                                                tags  ...        90        91  \\\n",
       "0  ['weeknight', 'time-to-make', 'course', 'main-...  ... -0.035307 -0.063383   \n",
       "1  ['weeknight', 'time-to-make', 'course', 'main-...  ... -0.035307 -0.063383   \n",
       "2                                                NaN  ...       NaN       NaN   \n",
       "3  ['15-minutes-or-less', 'time-to-make', 'course...  ...  0.000269  0.018464   \n",
       "4  ['15-minutes-or-less', 'time-to-make', 'course...  ...  0.000269  0.018464   \n",
       "\n",
       "         92        93        94        95        96        97        98  \\\n",
       "0  0.064998 -0.035071 -0.000654  0.023294 -0.040405  0.033900 -0.012999   \n",
       "1  0.064998 -0.035071 -0.000654  0.023294 -0.040405  0.033900 -0.012999   \n",
       "2       NaN       NaN       NaN       NaN       NaN       NaN       NaN   \n",
       "3  0.015813  0.001940 -0.100744 -0.057357 -0.015353  0.033562  0.018343   \n",
       "4  0.015813  0.001940 -0.100744 -0.057357 -0.015353  0.033562  0.018343   \n",
       "\n",
       "         99  \n",
       "0  0.060714  \n",
       "1  0.060714  \n",
       "2       NaN  \n",
       "3  0.000961  \n",
       "4  0.000961  \n",
       "\n",
       "[5 rows x 116 columns]"
      ]
     },
     "execution_count": 19,
     "metadata": {},
     "output_type": "execute_result"
    }
   ],
   "source": [
    "FoodRatings_merge = pd.merge(Food_Ratings,Food_Recipes2.rename(columns = {'id':'recipe_id'}),on='recipe_id',how='left')\n",
    "FoodRatings_merge.head()"
   ]
  },
  {
   "cell_type": "code",
   "execution_count": 20,
   "id": "01a73d9b",
   "metadata": {},
   "outputs": [
    {
     "data": {
      "text/plain": [
       "user_id          0\n",
       "recipe_id        0\n",
       "date             0\n",
       "rating           0\n",
       "review         169\n",
       "             ...  \n",
       "95           49358\n",
       "96           49358\n",
       "97           49358\n",
       "98           49358\n",
       "99           49358\n",
       "Length: 116, dtype: int64"
      ]
     },
     "execution_count": 20,
     "metadata": {},
     "output_type": "execute_result"
    }
   ],
   "source": [
    "FoodRatings_merge.isna().sum()"
   ]
  },
  {
   "cell_type": "code",
   "execution_count": 21,
   "id": "da98247d",
   "metadata": {},
   "outputs": [
    {
     "data": {
      "text/plain": [
       "user_id        0\n",
       "recipe_id      0\n",
       "date           0\n",
       "rating         0\n",
       "review       169\n",
       "dtype: int64"
      ]
     },
     "execution_count": 21,
     "metadata": {},
     "output_type": "execute_result"
    }
   ],
   "source": [
    "Food_Ratings.isna().sum()"
   ]
  },
  {
   "cell_type": "markdown",
   "id": "9cec1098",
   "metadata": {},
   "source": [
    "### Dropping all the unnecessary columns from the merged dataframe"
   ]
  },
  {
   "cell_type": "code",
   "execution_count": 22,
   "id": "717ed69d",
   "metadata": {},
   "outputs": [],
   "source": [
    "Food_Ratings_final = FoodRatings_merge.drop(['description','review','date', 'name', 'minutes', 'contributor_id', 'submitted', 'tags', 'nutrition', 'n_steps', 'steps', 'ingredients', 'n_ingredients'], axis=1)"
   ]
  },
  {
   "cell_type": "code",
   "execution_count": 23,
   "id": "56dfbcfd",
   "metadata": {
    "scrolled": true
   },
   "outputs": [
    {
     "data": {
      "text/plain": [
       "user_id          0\n",
       "recipe_id        0\n",
       "rating           0\n",
       "0            49358\n",
       "1            49358\n",
       "             ...  \n",
       "95           49358\n",
       "96           49358\n",
       "97           49358\n",
       "98           49358\n",
       "99           49358\n",
       "Length: 103, dtype: int64"
      ]
     },
     "execution_count": 23,
     "metadata": {},
     "output_type": "execute_result"
    }
   ],
   "source": [
    "Food_Ratings_final.isna().sum()"
   ]
  },
  {
   "cell_type": "code",
   "execution_count": 24,
   "id": "c5b63d60",
   "metadata": {},
   "outputs": [],
   "source": [
    "# Dropping the rows that have nan values\n",
    "Food_Ratings_final.dropna(inplace=True)"
   ]
  },
  {
   "cell_type": "code",
   "execution_count": 25,
   "id": "a4e56e08",
   "metadata": {},
   "outputs": [
    {
     "data": {
      "text/plain": [
       "user_id      0\n",
       "recipe_id    0\n",
       "rating       0\n",
       "0            0\n",
       "1            0\n",
       "            ..\n",
       "95           0\n",
       "96           0\n",
       "97           0\n",
       "98           0\n",
       "99           0\n",
       "Length: 103, dtype: int64"
      ]
     },
     "execution_count": 25,
     "metadata": {},
     "output_type": "execute_result"
    }
   ],
   "source": [
    "Food_Ratings_final.isna().sum()"
   ]
  },
  {
   "cell_type": "code",
   "execution_count": 3,
   "id": "3b5e161a",
   "metadata": {},
   "outputs": [],
   "source": [
    "# Converting the user_id and rating_id into categorical so that it can be label encoded. "
   ]
  },
  {
   "cell_type": "code",
   "execution_count": 26,
   "id": "a7b57e08",
   "metadata": {},
   "outputs": [],
   "source": [
    "Food_Ratings_final['user_id'] = pd.Categorical(Food_Ratings_final['user_id'])\n",
    "Food_user = Food_Ratings_final['user_id'].cat.codes\n",
    "Food_Ratings_final['recipe_id'] = pd.Categorical(Food_Ratings_final['recipe_id'])\n",
    "Food_recipe = Food_Ratings_final['recipe_id'].cat.codes\n",
    "training_output = Food_Ratings_final['rating']"
   ]
  },
  {
   "cell_type": "code",
   "execution_count": 27,
   "id": "9c90d720",
   "metadata": {},
   "outputs": [],
   "source": [
    "Food_Ratings_final.drop(columns = ['user_id','recipe_id','rating'],inplace=True)"
   ]
  },
  {
   "cell_type": "code",
   "execution_count": 28,
   "id": "ce3159e6",
   "metadata": {},
   "outputs": [
    {
     "data": {
      "text/plain": [
       "(221760, 219393, 1, 1, 100)"
      ]
     },
     "execution_count": 28,
     "metadata": {},
     "output_type": "execute_result"
    }
   ],
   "source": [
    "user_id = Food_user.max() \n",
    "recipe_id = Food_recipe.max()\n",
    "recipe_input_dim = 1\n",
    "user_input_dim = 1\n",
    "Food_Ratings_final_dim = Food_Ratings_final.shape[1]\n",
    "\n",
    "recipe_id,user_id,recipe_input_dim,user_input_dim,Food_Ratings_final_dim"
   ]
  },
  {
   "cell_type": "code",
   "execution_count": 29,
   "id": "cd1016cb",
   "metadata": {},
   "outputs": [
    {
     "data": {
      "text/plain": [
       "100"
      ]
     },
     "execution_count": 29,
     "metadata": {},
     "output_type": "execute_result"
    }
   ],
   "source": [
    "Food_Ratings_final_dim"
   ]
  },
  {
   "cell_type": "code",
   "execution_count": 30,
   "id": "664b938b",
   "metadata": {},
   "outputs": [
    {
     "data": {
      "text/plain": [
       "(219393, 221760)"
      ]
     },
     "execution_count": 30,
     "metadata": {},
     "output_type": "execute_result"
    }
   ],
   "source": [
    "Food_user.max(),Food_recipe.max()"
   ]
  },
  {
   "cell_type": "code",
   "execution_count": 31,
   "id": "becf0acd",
   "metadata": {},
   "outputs": [],
   "source": [
    "#Embedding layer for users\n",
    "users_input = Input(shape=(user_input_dim,))\n",
    "embedding_layer_users = Embedding(user_id+1 ,10, embeddings_regularizer=regularizers.L2(0))(users_input)#Embedding layer\n",
    "embedding_output_users = Flatten()(embedding_layer_users)\n",
    "\n",
    "#Embedding layer for recipe\n",
    "recipe_input = Input(shape=(recipe_input_dim,))\n",
    "embedding_layer_recipe = Embedding(recipe_id+1 ,10, embeddings_regularizer=regularizers.L2(0))(recipe_input)#Embedding layer\n",
    "embedding_output_recipe = Flatten()(embedding_layer_recipe)\n",
    "\n",
    "\n",
    "# #Embedding layer for Final_Ratings that ie., the metadata\n",
    "meta_input = Input(shape=(Food_Ratings_final_dim,), name='metadata_input')#1st Input Layer\n",
    "dense_layer = Dense(64, activation='relu')(meta_input)\n",
    "metadata_embedding = Dense(10, activation='relu',name='metadata_embedding')(dense_layer)\n",
    "\n",
    "#Concatination and Dense layer\n",
    "Merged_Embeddings = Concatenate()([embedding_output_recipe, embedding_output_users,metadata_embedding])\n",
    "hidden_layer = Dense(32, activation='relu', kernel_regularizer=regularizers.L2(0))(Merged_Embeddings)\n",
    "\n",
    "output_layer = Dense(1, kernel_initializer='lecun_uniform')(hidden_layer)\n",
    "\n",
    "model = tf.keras.Model([recipe_input, users_input,meta_input], output_layer) #"
   ]
  },
  {
   "cell_type": "code",
   "execution_count": 32,
   "id": "67d2e404",
   "metadata": {
    "scrolled": true
   },
   "outputs": [
    {
     "name": "stdout",
     "output_type": "stream",
     "text": [
      "Model: \"model\"\n",
      "__________________________________________________________________________________________________\n",
      " Layer (type)                   Output Shape         Param #     Connected to                     \n",
      "==================================================================================================\n",
      " input_1 (InputLayer)           [(None, 1)]          0           []                               \n",
      "                                                                                                  \n",
      " input_2 (InputLayer)           [(None, 1)]          0           []                               \n",
      "                                                                                                  \n",
      " metadata_input (InputLayer)    [(None, 100)]        0           []                               \n",
      "                                                                                                  \n",
      " embedding (Embedding)          (None, 1, 10)        2217610     ['input_1[0][0]']                \n",
      "                                                                                                  \n",
      " embedding_1 (Embedding)        (None, 1, 10)        2193940     ['input_2[0][0]']                \n",
      "                                                                                                  \n",
      " dense (Dense)                  (None, 64)           6464        ['metadata_input[0][0]']         \n",
      "                                                                                                  \n",
      " flatten (Flatten)              (None, 10)           0           ['embedding[0][0]']              \n",
      "                                                                                                  \n",
      " flatten_1 (Flatten)            (None, 10)           0           ['embedding_1[0][0]']            \n",
      "                                                                                                  \n",
      " metadata_embedding (Dense)     (None, 10)           650         ['dense[0][0]']                  \n",
      "                                                                                                  \n",
      " concatenate (Concatenate)      (None, 30)           0           ['flatten[0][0]',                \n",
      "                                                                  'flatten_1[0][0]',              \n",
      "                                                                  'metadata_embedding[0][0]']     \n",
      "                                                                                                  \n",
      " dense_1 (Dense)                (None, 32)           992         ['concatenate[0][0]']            \n",
      "                                                                                                  \n",
      " dense_2 (Dense)                (None, 1)            33          ['dense_1[0][0]']                \n",
      "                                                                                                  \n",
      "==================================================================================================\n",
      "Total params: 4,419,689\n",
      "Trainable params: 4,419,689\n",
      "Non-trainable params: 0\n",
      "__________________________________________________________________________________________________\n"
     ]
    },
    {
     "name": "stderr",
     "output_type": "stream",
     "text": [
      "C:\\Users\\pruth\\anaconda3\\lib\\site-packages\\keras\\optimizers\\optimizer_v2\\adam.py:110: UserWarning: The `lr` argument is deprecated, use `learning_rate` instead.\n",
      "  super(Adam, self).__init__(name, **kwargs)\n"
     ]
    }
   ],
   "source": [
    "# Model Optimizer\n",
    "optimizer = Adam(lr=1e-3, epsilon = 1e-7, amsgrad=True)\n",
    "model.compile(optimizer='adam', loss='mse', metrics=[tf.keras.metrics.RootMeanSquaredError()])\n",
    "model.summary()"
   ]
  },
  {
   "cell_type": "code",
   "execution_count": 33,
   "id": "f4457071",
   "metadata": {},
   "outputs": [
    {
     "data": {
      "text/html": [
       "<div>\n",
       "<style scoped>\n",
       "    .dataframe tbody tr th:only-of-type {\n",
       "        vertical-align: middle;\n",
       "    }\n",
       "\n",
       "    .dataframe tbody tr th {\n",
       "        vertical-align: top;\n",
       "    }\n",
       "\n",
       "    .dataframe thead th {\n",
       "        text-align: right;\n",
       "    }\n",
       "</style>\n",
       "<table border=\"1\" class=\"dataframe\">\n",
       "  <thead>\n",
       "    <tr style=\"text-align: right;\">\n",
       "      <th></th>\n",
       "      <th>0</th>\n",
       "      <th>1</th>\n",
       "      <th>2</th>\n",
       "      <th>3</th>\n",
       "      <th>4</th>\n",
       "      <th>5</th>\n",
       "      <th>6</th>\n",
       "      <th>7</th>\n",
       "      <th>8</th>\n",
       "      <th>9</th>\n",
       "      <th>...</th>\n",
       "      <th>90</th>\n",
       "      <th>91</th>\n",
       "      <th>92</th>\n",
       "      <th>93</th>\n",
       "      <th>94</th>\n",
       "      <th>95</th>\n",
       "      <th>96</th>\n",
       "      <th>97</th>\n",
       "      <th>98</th>\n",
       "      <th>99</th>\n",
       "    </tr>\n",
       "  </thead>\n",
       "  <tbody>\n",
       "    <tr>\n",
       "      <th>0</th>\n",
       "      <td>0.322326</td>\n",
       "      <td>-0.147668</td>\n",
       "      <td>0.130163</td>\n",
       "      <td>-0.113768</td>\n",
       "      <td>-0.008249</td>\n",
       "      <td>0.183759</td>\n",
       "      <td>0.085042</td>\n",
       "      <td>-0.065209</td>\n",
       "      <td>0.061928</td>\n",
       "      <td>0.093852</td>\n",
       "      <td>...</td>\n",
       "      <td>-0.035307</td>\n",
       "      <td>-0.063383</td>\n",
       "      <td>0.064998</td>\n",
       "      <td>-0.035071</td>\n",
       "      <td>-0.000654</td>\n",
       "      <td>0.023294</td>\n",
       "      <td>-0.040405</td>\n",
       "      <td>0.033900</td>\n",
       "      <td>-0.012999</td>\n",
       "      <td>0.060714</td>\n",
       "    </tr>\n",
       "    <tr>\n",
       "      <th>1</th>\n",
       "      <td>0.322326</td>\n",
       "      <td>-0.147668</td>\n",
       "      <td>0.130163</td>\n",
       "      <td>-0.113768</td>\n",
       "      <td>-0.008249</td>\n",
       "      <td>0.183759</td>\n",
       "      <td>0.085042</td>\n",
       "      <td>-0.065209</td>\n",
       "      <td>0.061928</td>\n",
       "      <td>0.093852</td>\n",
       "      <td>...</td>\n",
       "      <td>-0.035307</td>\n",
       "      <td>-0.063383</td>\n",
       "      <td>0.064998</td>\n",
       "      <td>-0.035071</td>\n",
       "      <td>-0.000654</td>\n",
       "      <td>0.023294</td>\n",
       "      <td>-0.040405</td>\n",
       "      <td>0.033900</td>\n",
       "      <td>-0.012999</td>\n",
       "      <td>0.060714</td>\n",
       "    </tr>\n",
       "    <tr>\n",
       "      <th>3</th>\n",
       "      <td>0.393132</td>\n",
       "      <td>-0.111767</td>\n",
       "      <td>0.169225</td>\n",
       "      <td>-0.020884</td>\n",
       "      <td>-0.051119</td>\n",
       "      <td>-0.064067</td>\n",
       "      <td>0.070653</td>\n",
       "      <td>-0.104138</td>\n",
       "      <td>-0.052185</td>\n",
       "      <td>-0.005312</td>\n",
       "      <td>...</td>\n",
       "      <td>0.000269</td>\n",
       "      <td>0.018464</td>\n",
       "      <td>0.015813</td>\n",
       "      <td>0.001940</td>\n",
       "      <td>-0.100744</td>\n",
       "      <td>-0.057357</td>\n",
       "      <td>-0.015353</td>\n",
       "      <td>0.033562</td>\n",
       "      <td>0.018343</td>\n",
       "      <td>0.000961</td>\n",
       "    </tr>\n",
       "    <tr>\n",
       "      <th>4</th>\n",
       "      <td>0.393132</td>\n",
       "      <td>-0.111767</td>\n",
       "      <td>0.169225</td>\n",
       "      <td>-0.020884</td>\n",
       "      <td>-0.051119</td>\n",
       "      <td>-0.064067</td>\n",
       "      <td>0.070653</td>\n",
       "      <td>-0.104138</td>\n",
       "      <td>-0.052185</td>\n",
       "      <td>-0.005312</td>\n",
       "      <td>...</td>\n",
       "      <td>0.000269</td>\n",
       "      <td>0.018464</td>\n",
       "      <td>0.015813</td>\n",
       "      <td>0.001940</td>\n",
       "      <td>-0.100744</td>\n",
       "      <td>-0.057357</td>\n",
       "      <td>-0.015353</td>\n",
       "      <td>0.033562</td>\n",
       "      <td>0.018343</td>\n",
       "      <td>0.000961</td>\n",
       "    </tr>\n",
       "    <tr>\n",
       "      <th>5</th>\n",
       "      <td>0.274319</td>\n",
       "      <td>0.046590</td>\n",
       "      <td>-0.061615</td>\n",
       "      <td>-0.131054</td>\n",
       "      <td>0.035333</td>\n",
       "      <td>-0.051255</td>\n",
       "      <td>-0.053934</td>\n",
       "      <td>0.007385</td>\n",
       "      <td>-0.064569</td>\n",
       "      <td>-0.073651</td>\n",
       "      <td>...</td>\n",
       "      <td>0.078805</td>\n",
       "      <td>-0.011042</td>\n",
       "      <td>0.031242</td>\n",
       "      <td>0.116356</td>\n",
       "      <td>0.023554</td>\n",
       "      <td>-0.106705</td>\n",
       "      <td>-0.071317</td>\n",
       "      <td>-0.054020</td>\n",
       "      <td>0.007122</td>\n",
       "      <td>0.011535</td>\n",
       "    </tr>\n",
       "    <tr>\n",
       "      <th>...</th>\n",
       "      <td>...</td>\n",
       "      <td>...</td>\n",
       "      <td>...</td>\n",
       "      <td>...</td>\n",
       "      <td>...</td>\n",
       "      <td>...</td>\n",
       "      <td>...</td>\n",
       "      <td>...</td>\n",
       "      <td>...</td>\n",
       "      <td>...</td>\n",
       "      <td>...</td>\n",
       "      <td>...</td>\n",
       "      <td>...</td>\n",
       "      <td>...</td>\n",
       "      <td>...</td>\n",
       "      <td>...</td>\n",
       "      <td>...</td>\n",
       "      <td>...</td>\n",
       "      <td>...</td>\n",
       "      <td>...</td>\n",
       "      <td>...</td>\n",
       "    </tr>\n",
       "    <tr>\n",
       "      <th>1132362</th>\n",
       "      <td>0.154672</td>\n",
       "      <td>-0.050240</td>\n",
       "      <td>-0.058881</td>\n",
       "      <td>-0.102118</td>\n",
       "      <td>-0.050438</td>\n",
       "      <td>0.109048</td>\n",
       "      <td>0.008116</td>\n",
       "      <td>-0.044670</td>\n",
       "      <td>-0.031791</td>\n",
       "      <td>-0.003157</td>\n",
       "      <td>...</td>\n",
       "      <td>0.037006</td>\n",
       "      <td>-0.098463</td>\n",
       "      <td>0.001866</td>\n",
       "      <td>-0.095421</td>\n",
       "      <td>-0.114769</td>\n",
       "      <td>-0.093109</td>\n",
       "      <td>0.012543</td>\n",
       "      <td>-0.004808</td>\n",
       "      <td>0.069405</td>\n",
       "      <td>-0.037196</td>\n",
       "    </tr>\n",
       "    <tr>\n",
       "      <th>1132363</th>\n",
       "      <td>0.204890</td>\n",
       "      <td>0.004216</td>\n",
       "      <td>-0.036229</td>\n",
       "      <td>-0.071906</td>\n",
       "      <td>0.009781</td>\n",
       "      <td>-0.060187</td>\n",
       "      <td>-0.044289</td>\n",
       "      <td>0.095730</td>\n",
       "      <td>-0.053059</td>\n",
       "      <td>-0.106891</td>\n",
       "      <td>...</td>\n",
       "      <td>0.004769</td>\n",
       "      <td>-0.050150</td>\n",
       "      <td>-0.034808</td>\n",
       "      <td>-0.014086</td>\n",
       "      <td>0.017920</td>\n",
       "      <td>0.023112</td>\n",
       "      <td>-0.008481</td>\n",
       "      <td>-0.015253</td>\n",
       "      <td>0.013451</td>\n",
       "      <td>0.018929</td>\n",
       "    </tr>\n",
       "    <tr>\n",
       "      <th>1132364</th>\n",
       "      <td>0.137059</td>\n",
       "      <td>-0.076024</td>\n",
       "      <td>-0.132181</td>\n",
       "      <td>0.183099</td>\n",
       "      <td>0.087173</td>\n",
       "      <td>-0.027240</td>\n",
       "      <td>0.111331</td>\n",
       "      <td>0.057201</td>\n",
       "      <td>0.063239</td>\n",
       "      <td>-0.147928</td>\n",
       "      <td>...</td>\n",
       "      <td>-0.002921</td>\n",
       "      <td>-0.014550</td>\n",
       "      <td>0.007765</td>\n",
       "      <td>-0.013824</td>\n",
       "      <td>-0.020819</td>\n",
       "      <td>-0.010648</td>\n",
       "      <td>-0.005767</td>\n",
       "      <td>0.022173</td>\n",
       "      <td>-0.016378</td>\n",
       "      <td>0.005576</td>\n",
       "    </tr>\n",
       "    <tr>\n",
       "      <th>1132365</th>\n",
       "      <td>0.137059</td>\n",
       "      <td>-0.076024</td>\n",
       "      <td>-0.132181</td>\n",
       "      <td>0.183099</td>\n",
       "      <td>0.087173</td>\n",
       "      <td>-0.027240</td>\n",
       "      <td>0.111331</td>\n",
       "      <td>0.057201</td>\n",
       "      <td>0.063239</td>\n",
       "      <td>-0.147928</td>\n",
       "      <td>...</td>\n",
       "      <td>-0.002921</td>\n",
       "      <td>-0.014550</td>\n",
       "      <td>0.007765</td>\n",
       "      <td>-0.013824</td>\n",
       "      <td>-0.020819</td>\n",
       "      <td>-0.010648</td>\n",
       "      <td>-0.005767</td>\n",
       "      <td>0.022173</td>\n",
       "      <td>-0.016378</td>\n",
       "      <td>0.005576</td>\n",
       "    </tr>\n",
       "    <tr>\n",
       "      <th>1132366</th>\n",
       "      <td>0.137059</td>\n",
       "      <td>-0.076024</td>\n",
       "      <td>-0.132181</td>\n",
       "      <td>0.183099</td>\n",
       "      <td>0.087173</td>\n",
       "      <td>-0.027240</td>\n",
       "      <td>0.111331</td>\n",
       "      <td>0.057201</td>\n",
       "      <td>0.063239</td>\n",
       "      <td>-0.147928</td>\n",
       "      <td>...</td>\n",
       "      <td>-0.002921</td>\n",
       "      <td>-0.014550</td>\n",
       "      <td>0.007765</td>\n",
       "      <td>-0.013824</td>\n",
       "      <td>-0.020819</td>\n",
       "      <td>-0.010648</td>\n",
       "      <td>-0.005767</td>\n",
       "      <td>0.022173</td>\n",
       "      <td>-0.016378</td>\n",
       "      <td>0.005576</td>\n",
       "    </tr>\n",
       "  </tbody>\n",
       "</table>\n",
       "<p>1083009 rows × 100 columns</p>\n",
       "</div>"
      ],
      "text/plain": [
       "               0         1         2         3         4         5         6   \\\n",
       "0        0.322326 -0.147668  0.130163 -0.113768 -0.008249  0.183759  0.085042   \n",
       "1        0.322326 -0.147668  0.130163 -0.113768 -0.008249  0.183759  0.085042   \n",
       "3        0.393132 -0.111767  0.169225 -0.020884 -0.051119 -0.064067  0.070653   \n",
       "4        0.393132 -0.111767  0.169225 -0.020884 -0.051119 -0.064067  0.070653   \n",
       "5        0.274319  0.046590 -0.061615 -0.131054  0.035333 -0.051255 -0.053934   \n",
       "...           ...       ...       ...       ...       ...       ...       ...   \n",
       "1132362  0.154672 -0.050240 -0.058881 -0.102118 -0.050438  0.109048  0.008116   \n",
       "1132363  0.204890  0.004216 -0.036229 -0.071906  0.009781 -0.060187 -0.044289   \n",
       "1132364  0.137059 -0.076024 -0.132181  0.183099  0.087173 -0.027240  0.111331   \n",
       "1132365  0.137059 -0.076024 -0.132181  0.183099  0.087173 -0.027240  0.111331   \n",
       "1132366  0.137059 -0.076024 -0.132181  0.183099  0.087173 -0.027240  0.111331   \n",
       "\n",
       "               7         8         9   ...        90        91        92  \\\n",
       "0       -0.065209  0.061928  0.093852  ... -0.035307 -0.063383  0.064998   \n",
       "1       -0.065209  0.061928  0.093852  ... -0.035307 -0.063383  0.064998   \n",
       "3       -0.104138 -0.052185 -0.005312  ...  0.000269  0.018464  0.015813   \n",
       "4       -0.104138 -0.052185 -0.005312  ...  0.000269  0.018464  0.015813   \n",
       "5        0.007385 -0.064569 -0.073651  ...  0.078805 -0.011042  0.031242   \n",
       "...           ...       ...       ...  ...       ...       ...       ...   \n",
       "1132362 -0.044670 -0.031791 -0.003157  ...  0.037006 -0.098463  0.001866   \n",
       "1132363  0.095730 -0.053059 -0.106891  ...  0.004769 -0.050150 -0.034808   \n",
       "1132364  0.057201  0.063239 -0.147928  ... -0.002921 -0.014550  0.007765   \n",
       "1132365  0.057201  0.063239 -0.147928  ... -0.002921 -0.014550  0.007765   \n",
       "1132366  0.057201  0.063239 -0.147928  ... -0.002921 -0.014550  0.007765   \n",
       "\n",
       "               93        94        95        96        97        98        99  \n",
       "0       -0.035071 -0.000654  0.023294 -0.040405  0.033900 -0.012999  0.060714  \n",
       "1       -0.035071 -0.000654  0.023294 -0.040405  0.033900 -0.012999  0.060714  \n",
       "3        0.001940 -0.100744 -0.057357 -0.015353  0.033562  0.018343  0.000961  \n",
       "4        0.001940 -0.100744 -0.057357 -0.015353  0.033562  0.018343  0.000961  \n",
       "5        0.116356  0.023554 -0.106705 -0.071317 -0.054020  0.007122  0.011535  \n",
       "...           ...       ...       ...       ...       ...       ...       ...  \n",
       "1132362 -0.095421 -0.114769 -0.093109  0.012543 -0.004808  0.069405 -0.037196  \n",
       "1132363 -0.014086  0.017920  0.023112 -0.008481 -0.015253  0.013451  0.018929  \n",
       "1132364 -0.013824 -0.020819 -0.010648 -0.005767  0.022173 -0.016378  0.005576  \n",
       "1132365 -0.013824 -0.020819 -0.010648 -0.005767  0.022173 -0.016378  0.005576  \n",
       "1132366 -0.013824 -0.020819 -0.010648 -0.005767  0.022173 -0.016378  0.005576  \n",
       "\n",
       "[1083009 rows x 100 columns]"
      ]
     },
     "execution_count": 33,
     "metadata": {},
     "output_type": "execute_result"
    }
   ],
   "source": [
    "Food_Ratings_final"
   ]
  },
  {
   "cell_type": "code",
   "execution_count": 34,
   "id": "46d1c8b5",
   "metadata": {},
   "outputs": [],
   "source": [
    "# Splitting the data in 4:1 for train-test\n",
    "x=800000"
   ]
  },
  {
   "cell_type": "code",
   "execution_count": 35,
   "id": "2ef69ea3",
   "metadata": {},
   "outputs": [
    {
     "name": "stdout",
     "output_type": "stream",
     "text": [
      "Epoch 1/10\n",
      "2500/2500 [==============================] - 33s 13ms/step - loss: 1.9248 - root_mean_squared_error: 1.3874 - val_loss: 1.4824 - val_root_mean_squared_error: 1.2175\n",
      "Epoch 2/10\n",
      "2500/2500 [==============================] - 35s 14ms/step - loss: 1.0187 - root_mean_squared_error: 1.0093 - val_loss: 1.6373 - val_root_mean_squared_error: 1.2796\n",
      "Epoch 3/10\n",
      "2500/2500 [==============================] - 35s 14ms/step - loss: 0.7144 - root_mean_squared_error: 0.8452 - val_loss: 1.6426 - val_root_mean_squared_error: 1.2816\n",
      "Epoch 4/10\n",
      "2500/2500 [==============================] - 36s 14ms/step - loss: 0.6263 - root_mean_squared_error: 0.7914 - val_loss: 1.8412 - val_root_mean_squared_error: 1.3569\n"
     ]
    }
   ],
   "source": [
    "# Fit the model to the data\n",
    "\n",
    "Final_list = [Food_recipe[:x], Food_user[:x],Food_Ratings_final[:x]]\n",
    "\n",
    "early_stopping = EarlyStopping(monitor = 'val_loss', patience = 3)\n",
    "\n",
    "Neural_nets = model.fit(\n",
    "  Final_list, training_output, batch_size=256, epochs=10, \n",
    "  verbose=1, callbacks = [early_stopping], validation_split=0.2\n",
    ")"
   ]
  },
  {
   "cell_type": "code",
   "execution_count": 36,
   "id": "5f644fd7",
   "metadata": {},
   "outputs": [
    {
     "name": "stdout",
     "output_type": "stream",
     "text": [
      "8845/8845 [==============================] - 4s 476us/step\n"
     ]
    }
   ],
   "source": [
    "Predictions = model.predict([Food_recipe[x:],Food_user[x:],Food_Ratings_final[x:]])"
   ]
  },
  {
   "cell_type": "code",
   "execution_count": 37,
   "id": "3c88927f",
   "metadata": {},
   "outputs": [
    {
     "data": {
      "text/plain": [
       "1.8174611127408562"
      ]
     },
     "execution_count": 37,
     "metadata": {},
     "output_type": "execute_result"
    }
   ],
   "source": [
    "mean_squared_error(Predictions,training_output[x:])"
   ]
  },
  {
   "cell_type": "markdown",
   "id": "9926ed1c",
   "metadata": {},
   "source": [
    "### Neural Network embedded eith sentiment analysis data."
   ]
  },
  {
   "cell_type": "code",
   "execution_count": 38,
   "id": "8ab38341",
   "metadata": {},
   "outputs": [],
   "source": [
    "df_interactions_with_senti = pd.read_csv(r\"C:\\Users\\pruth\\Downloads\\project\\df_interactions_with_senti.csv\")"
   ]
  },
  {
   "cell_type": "code",
   "execution_count": 39,
   "id": "783ece65",
   "metadata": {
    "scrolled": true
   },
   "outputs": [
    {
     "data": {
      "text/html": [
       "<div>\n",
       "<style scoped>\n",
       "    .dataframe tbody tr th:only-of-type {\n",
       "        vertical-align: middle;\n",
       "    }\n",
       "\n",
       "    .dataframe tbody tr th {\n",
       "        vertical-align: top;\n",
       "    }\n",
       "\n",
       "    .dataframe thead th {\n",
       "        text-align: right;\n",
       "    }\n",
       "</style>\n",
       "<table border=\"1\" class=\"dataframe\">\n",
       "  <thead>\n",
       "    <tr style=\"text-align: right;\">\n",
       "      <th></th>\n",
       "      <th>Unnamed: 0</th>\n",
       "      <th>user_id</th>\n",
       "      <th>recipe_id</th>\n",
       "      <th>date</th>\n",
       "      <th>rating</th>\n",
       "      <th>review</th>\n",
       "      <th>prob_senti_pos</th>\n",
       "      <th>prob_senti_neu</th>\n",
       "      <th>prob_senti_neg</th>\n",
       "    </tr>\n",
       "  </thead>\n",
       "  <tbody>\n",
       "    <tr>\n",
       "      <th>0</th>\n",
       "      <td>0</td>\n",
       "      <td>38094</td>\n",
       "      <td>40893</td>\n",
       "      <td>2003-02-17</td>\n",
       "      <td>4</td>\n",
       "      <td>Great with a salad. Cooked on top of stove for...</td>\n",
       "      <td>0.244645</td>\n",
       "      <td>0.510024</td>\n",
       "      <td>0.245331</td>\n",
       "    </tr>\n",
       "    <tr>\n",
       "      <th>1</th>\n",
       "      <td>1</td>\n",
       "      <td>1293707</td>\n",
       "      <td>40893</td>\n",
       "      <td>2011-12-21</td>\n",
       "      <td>5</td>\n",
       "      <td>So simple, so delicious! Great for chilly fall...</td>\n",
       "      <td>0.212580</td>\n",
       "      <td>0.541937</td>\n",
       "      <td>0.245482</td>\n",
       "    </tr>\n",
       "    <tr>\n",
       "      <th>2</th>\n",
       "      <td>2</td>\n",
       "      <td>8937</td>\n",
       "      <td>44394</td>\n",
       "      <td>2002-12-01</td>\n",
       "      <td>4</td>\n",
       "      <td>This worked very well and is EASY.  I used not...</td>\n",
       "      <td>0.217615</td>\n",
       "      <td>0.504000</td>\n",
       "      <td>0.278385</td>\n",
       "    </tr>\n",
       "    <tr>\n",
       "      <th>3</th>\n",
       "      <td>3</td>\n",
       "      <td>126440</td>\n",
       "      <td>85009</td>\n",
       "      <td>2010-02-27</td>\n",
       "      <td>5</td>\n",
       "      <td>I made the Mexican topping and took it to bunk...</td>\n",
       "      <td>0.217029</td>\n",
       "      <td>0.562159</td>\n",
       "      <td>0.220812</td>\n",
       "    </tr>\n",
       "    <tr>\n",
       "      <th>4</th>\n",
       "      <td>4</td>\n",
       "      <td>57222</td>\n",
       "      <td>85009</td>\n",
       "      <td>2011-10-01</td>\n",
       "      <td>5</td>\n",
       "      <td>Made the cheddar bacon topping, adding a sprin...</td>\n",
       "      <td>0.245181</td>\n",
       "      <td>0.516963</td>\n",
       "      <td>0.237855</td>\n",
       "    </tr>\n",
       "    <tr>\n",
       "      <th>...</th>\n",
       "      <td>...</td>\n",
       "      <td>...</td>\n",
       "      <td>...</td>\n",
       "      <td>...</td>\n",
       "      <td>...</td>\n",
       "      <td>...</td>\n",
       "      <td>...</td>\n",
       "      <td>...</td>\n",
       "      <td>...</td>\n",
       "    </tr>\n",
       "    <tr>\n",
       "      <th>199995</th>\n",
       "      <td>199995</td>\n",
       "      <td>486888</td>\n",
       "      <td>33671</td>\n",
       "      <td>2009-01-17</td>\n",
       "      <td>5</td>\n",
       "      <td>DH said he could just drink the gravy or eat i...</td>\n",
       "      <td>0.290039</td>\n",
       "      <td>0.504268</td>\n",
       "      <td>0.205692</td>\n",
       "    </tr>\n",
       "    <tr>\n",
       "      <th>199996</th>\n",
       "      <td>199996</td>\n",
       "      <td>1133067</td>\n",
       "      <td>33671</td>\n",
       "      <td>2009-01-17</td>\n",
       "      <td>0</td>\n",
       "      <td>Wow!  at 53 grams of fat per person, no WONDER...</td>\n",
       "      <td>0.214188</td>\n",
       "      <td>0.543682</td>\n",
       "      <td>0.242130</td>\n",
       "    </tr>\n",
       "    <tr>\n",
       "      <th>199997</th>\n",
       "      <td>199997</td>\n",
       "      <td>227456</td>\n",
       "      <td>33671</td>\n",
       "      <td>2009-01-18</td>\n",
       "      <td>5</td>\n",
       "      <td>FANTASTIC!  What else needs to be said.  I bou...</td>\n",
       "      <td>0.222121</td>\n",
       "      <td>0.489666</td>\n",
       "      <td>0.288212</td>\n",
       "    </tr>\n",
       "    <tr>\n",
       "      <th>199998</th>\n",
       "      <td>199998</td>\n",
       "      <td>335606</td>\n",
       "      <td>33671</td>\n",
       "      <td>2009-01-19</td>\n",
       "      <td>4</td>\n",
       "      <td>Very easy and fall off the bone tender.  My on...</td>\n",
       "      <td>0.273133</td>\n",
       "      <td>0.514271</td>\n",
       "      <td>0.212596</td>\n",
       "    </tr>\n",
       "    <tr>\n",
       "      <th>199999</th>\n",
       "      <td>199999</td>\n",
       "      <td>1026827</td>\n",
       "      <td>33671</td>\n",
       "      <td>2009-01-20</td>\n",
       "      <td>5</td>\n",
       "      <td>Best. Chicken. Ever. The only change I made to...</td>\n",
       "      <td>0.247878</td>\n",
       "      <td>0.504908</td>\n",
       "      <td>0.247214</td>\n",
       "    </tr>\n",
       "  </tbody>\n",
       "</table>\n",
       "<p>200000 rows × 9 columns</p>\n",
       "</div>"
      ],
      "text/plain": [
       "        Unnamed: 0  user_id  recipe_id        date  rating  \\\n",
       "0                0    38094      40893  2003-02-17       4   \n",
       "1                1  1293707      40893  2011-12-21       5   \n",
       "2                2     8937      44394  2002-12-01       4   \n",
       "3                3   126440      85009  2010-02-27       5   \n",
       "4                4    57222      85009  2011-10-01       5   \n",
       "...            ...      ...        ...         ...     ...   \n",
       "199995      199995   486888      33671  2009-01-17       5   \n",
       "199996      199996  1133067      33671  2009-01-17       0   \n",
       "199997      199997   227456      33671  2009-01-18       5   \n",
       "199998      199998   335606      33671  2009-01-19       4   \n",
       "199999      199999  1026827      33671  2009-01-20       5   \n",
       "\n",
       "                                                   review  prob_senti_pos  \\\n",
       "0       Great with a salad. Cooked on top of stove for...        0.244645   \n",
       "1       So simple, so delicious! Great for chilly fall...        0.212580   \n",
       "2       This worked very well and is EASY.  I used not...        0.217615   \n",
       "3       I made the Mexican topping and took it to bunk...        0.217029   \n",
       "4       Made the cheddar bacon topping, adding a sprin...        0.245181   \n",
       "...                                                   ...             ...   \n",
       "199995  DH said he could just drink the gravy or eat i...        0.290039   \n",
       "199996  Wow!  at 53 grams of fat per person, no WONDER...        0.214188   \n",
       "199997  FANTASTIC!  What else needs to be said.  I bou...        0.222121   \n",
       "199998  Very easy and fall off the bone tender.  My on...        0.273133   \n",
       "199999  Best. Chicken. Ever. The only change I made to...        0.247878   \n",
       "\n",
       "        prob_senti_neu  prob_senti_neg  \n",
       "0             0.510024        0.245331  \n",
       "1             0.541937        0.245482  \n",
       "2             0.504000        0.278385  \n",
       "3             0.562159        0.220812  \n",
       "4             0.516963        0.237855  \n",
       "...                ...             ...  \n",
       "199995        0.504268        0.205692  \n",
       "199996        0.543682        0.242130  \n",
       "199997        0.489666        0.288212  \n",
       "199998        0.514271        0.212596  \n",
       "199999        0.504908        0.247214  \n",
       "\n",
       "[200000 rows x 9 columns]"
      ]
     },
     "execution_count": 39,
     "metadata": {},
     "output_type": "execute_result"
    }
   ],
   "source": [
    "df_interactions_with_senti"
   ]
  },
  {
   "cell_type": "code",
   "execution_count": 5,
   "id": "bf5654ee",
   "metadata": {},
   "outputs": [],
   "source": [
    "# Merging the sentiment data with the ratings data"
   ]
  },
  {
   "cell_type": "code",
   "execution_count": 40,
   "id": "54903dde",
   "metadata": {},
   "outputs": [
    {
     "data": {
      "text/html": [
       "<div>\n",
       "<style scoped>\n",
       "    .dataframe tbody tr th:only-of-type {\n",
       "        vertical-align: middle;\n",
       "    }\n",
       "\n",
       "    .dataframe tbody tr th {\n",
       "        vertical-align: top;\n",
       "    }\n",
       "\n",
       "    .dataframe thead th {\n",
       "        text-align: right;\n",
       "    }\n",
       "</style>\n",
       "<table border=\"1\" class=\"dataframe\">\n",
       "  <thead>\n",
       "    <tr style=\"text-align: right;\">\n",
       "      <th></th>\n",
       "      <th>user_id</th>\n",
       "      <th>recipe_id</th>\n",
       "      <th>date_x</th>\n",
       "      <th>rating_x</th>\n",
       "      <th>review_x</th>\n",
       "      <th>Unnamed: 0</th>\n",
       "      <th>date_y</th>\n",
       "      <th>rating_y</th>\n",
       "      <th>review_y</th>\n",
       "      <th>prob_senti_pos</th>\n",
       "      <th>prob_senti_neu</th>\n",
       "      <th>prob_senti_neg</th>\n",
       "    </tr>\n",
       "  </thead>\n",
       "  <tbody>\n",
       "    <tr>\n",
       "      <th>0</th>\n",
       "      <td>38094</td>\n",
       "      <td>40893</td>\n",
       "      <td>2003-02-17</td>\n",
       "      <td>4</td>\n",
       "      <td>Great with a salad. Cooked on top of stove for...</td>\n",
       "      <td>0</td>\n",
       "      <td>2003-02-17</td>\n",
       "      <td>4</td>\n",
       "      <td>Great with a salad. Cooked on top of stove for...</td>\n",
       "      <td>0.244645</td>\n",
       "      <td>0.510024</td>\n",
       "      <td>0.245331</td>\n",
       "    </tr>\n",
       "    <tr>\n",
       "      <th>1</th>\n",
       "      <td>1293707</td>\n",
       "      <td>40893</td>\n",
       "      <td>2011-12-21</td>\n",
       "      <td>5</td>\n",
       "      <td>So simple, so delicious! Great for chilly fall...</td>\n",
       "      <td>1</td>\n",
       "      <td>2011-12-21</td>\n",
       "      <td>5</td>\n",
       "      <td>So simple, so delicious! Great for chilly fall...</td>\n",
       "      <td>0.212580</td>\n",
       "      <td>0.541937</td>\n",
       "      <td>0.245482</td>\n",
       "    </tr>\n",
       "    <tr>\n",
       "      <th>2</th>\n",
       "      <td>8937</td>\n",
       "      <td>44394</td>\n",
       "      <td>2002-12-01</td>\n",
       "      <td>4</td>\n",
       "      <td>This worked very well and is EASY.  I used not...</td>\n",
       "      <td>2</td>\n",
       "      <td>2002-12-01</td>\n",
       "      <td>4</td>\n",
       "      <td>This worked very well and is EASY.  I used not...</td>\n",
       "      <td>0.217615</td>\n",
       "      <td>0.504000</td>\n",
       "      <td>0.278385</td>\n",
       "    </tr>\n",
       "    <tr>\n",
       "      <th>3</th>\n",
       "      <td>126440</td>\n",
       "      <td>85009</td>\n",
       "      <td>2010-02-27</td>\n",
       "      <td>5</td>\n",
       "      <td>I made the Mexican topping and took it to bunk...</td>\n",
       "      <td>3</td>\n",
       "      <td>2010-02-27</td>\n",
       "      <td>5</td>\n",
       "      <td>I made the Mexican topping and took it to bunk...</td>\n",
       "      <td>0.217029</td>\n",
       "      <td>0.562159</td>\n",
       "      <td>0.220812</td>\n",
       "    </tr>\n",
       "    <tr>\n",
       "      <th>4</th>\n",
       "      <td>57222</td>\n",
       "      <td>85009</td>\n",
       "      <td>2011-10-01</td>\n",
       "      <td>5</td>\n",
       "      <td>Made the cheddar bacon topping, adding a sprin...</td>\n",
       "      <td>4</td>\n",
       "      <td>2011-10-01</td>\n",
       "      <td>5</td>\n",
       "      <td>Made the cheddar bacon topping, adding a sprin...</td>\n",
       "      <td>0.245181</td>\n",
       "      <td>0.516963</td>\n",
       "      <td>0.237855</td>\n",
       "    </tr>\n",
       "  </tbody>\n",
       "</table>\n",
       "</div>"
      ],
      "text/plain": [
       "   user_id  recipe_id      date_x  rating_x  \\\n",
       "0    38094      40893  2003-02-17         4   \n",
       "1  1293707      40893  2011-12-21         5   \n",
       "2     8937      44394  2002-12-01         4   \n",
       "3   126440      85009  2010-02-27         5   \n",
       "4    57222      85009  2011-10-01         5   \n",
       "\n",
       "                                            review_x  Unnamed: 0      date_y  \\\n",
       "0  Great with a salad. Cooked on top of stove for...           0  2003-02-17   \n",
       "1  So simple, so delicious! Great for chilly fall...           1  2011-12-21   \n",
       "2  This worked very well and is EASY.  I used not...           2  2002-12-01   \n",
       "3  I made the Mexican topping and took it to bunk...           3  2010-02-27   \n",
       "4  Made the cheddar bacon topping, adding a sprin...           4  2011-10-01   \n",
       "\n",
       "   rating_y                                           review_y  \\\n",
       "0         4  Great with a salad. Cooked on top of stove for...   \n",
       "1         5  So simple, so delicious! Great for chilly fall...   \n",
       "2         4  This worked very well and is EASY.  I used not...   \n",
       "3         5  I made the Mexican topping and took it to bunk...   \n",
       "4         5  Made the cheddar bacon topping, adding a sprin...   \n",
       "\n",
       "   prob_senti_pos  prob_senti_neu  prob_senti_neg  \n",
       "0        0.244645        0.510024        0.245331  \n",
       "1        0.212580        0.541937        0.245482  \n",
       "2        0.217615        0.504000        0.278385  \n",
       "3        0.217029        0.562159        0.220812  \n",
       "4        0.245181        0.516963        0.237855  "
      ]
     },
     "execution_count": 40,
     "metadata": {},
     "output_type": "execute_result"
    }
   ],
   "source": [
    "FoodRatings_merge = pd.merge(Food_Ratings,df_interactions_with_senti,how='right', left_on=['user_id','recipe_id'], right_on = ['user_id','recipe_id'])\n",
    "FoodRatings_merge.head()"
   ]
  },
  {
   "cell_type": "code",
   "execution_count": 41,
   "id": "7a658ce2",
   "metadata": {},
   "outputs": [],
   "source": [
    "Food_Ratings_final = FoodRatings_merge.copy()\n",
    "training_output = Food_Ratings_final['rating_x']"
   ]
  },
  {
   "cell_type": "code",
   "execution_count": 42,
   "id": "1529f506",
   "metadata": {
    "scrolled": true
   },
   "outputs": [],
   "source": [
    "Food_Ratings_final.drop(columns = [\"date_x\",\"date_y\",\"review_x\",\"review_y\",\"rating_x\",\"rating_y\",\"Unnamed: 0\"],inplace=True)"
   ]
  },
  {
   "cell_type": "code",
   "execution_count": 43,
   "id": "669d8839",
   "metadata": {},
   "outputs": [
    {
     "data": {
      "text/html": [
       "<div>\n",
       "<style scoped>\n",
       "    .dataframe tbody tr th:only-of-type {\n",
       "        vertical-align: middle;\n",
       "    }\n",
       "\n",
       "    .dataframe tbody tr th {\n",
       "        vertical-align: top;\n",
       "    }\n",
       "\n",
       "    .dataframe thead th {\n",
       "        text-align: right;\n",
       "    }\n",
       "</style>\n",
       "<table border=\"1\" class=\"dataframe\">\n",
       "  <thead>\n",
       "    <tr style=\"text-align: right;\">\n",
       "      <th></th>\n",
       "      <th>user_id</th>\n",
       "      <th>recipe_id</th>\n",
       "      <th>prob_senti_pos</th>\n",
       "      <th>prob_senti_neu</th>\n",
       "      <th>prob_senti_neg</th>\n",
       "    </tr>\n",
       "  </thead>\n",
       "  <tbody>\n",
       "    <tr>\n",
       "      <th>0</th>\n",
       "      <td>38094</td>\n",
       "      <td>40893</td>\n",
       "      <td>0.244645</td>\n",
       "      <td>0.510024</td>\n",
       "      <td>0.245331</td>\n",
       "    </tr>\n",
       "    <tr>\n",
       "      <th>1</th>\n",
       "      <td>1293707</td>\n",
       "      <td>40893</td>\n",
       "      <td>0.212580</td>\n",
       "      <td>0.541937</td>\n",
       "      <td>0.245482</td>\n",
       "    </tr>\n",
       "    <tr>\n",
       "      <th>2</th>\n",
       "      <td>8937</td>\n",
       "      <td>44394</td>\n",
       "      <td>0.217615</td>\n",
       "      <td>0.504000</td>\n",
       "      <td>0.278385</td>\n",
       "    </tr>\n",
       "    <tr>\n",
       "      <th>3</th>\n",
       "      <td>126440</td>\n",
       "      <td>85009</td>\n",
       "      <td>0.217029</td>\n",
       "      <td>0.562159</td>\n",
       "      <td>0.220812</td>\n",
       "    </tr>\n",
       "    <tr>\n",
       "      <th>4</th>\n",
       "      <td>57222</td>\n",
       "      <td>85009</td>\n",
       "      <td>0.245181</td>\n",
       "      <td>0.516963</td>\n",
       "      <td>0.237855</td>\n",
       "    </tr>\n",
       "    <tr>\n",
       "      <th>...</th>\n",
       "      <td>...</td>\n",
       "      <td>...</td>\n",
       "      <td>...</td>\n",
       "      <td>...</td>\n",
       "      <td>...</td>\n",
       "    </tr>\n",
       "    <tr>\n",
       "      <th>199995</th>\n",
       "      <td>486888</td>\n",
       "      <td>33671</td>\n",
       "      <td>0.290039</td>\n",
       "      <td>0.504268</td>\n",
       "      <td>0.205692</td>\n",
       "    </tr>\n",
       "    <tr>\n",
       "      <th>199996</th>\n",
       "      <td>1133067</td>\n",
       "      <td>33671</td>\n",
       "      <td>0.214188</td>\n",
       "      <td>0.543682</td>\n",
       "      <td>0.242130</td>\n",
       "    </tr>\n",
       "    <tr>\n",
       "      <th>199997</th>\n",
       "      <td>227456</td>\n",
       "      <td>33671</td>\n",
       "      <td>0.222121</td>\n",
       "      <td>0.489666</td>\n",
       "      <td>0.288212</td>\n",
       "    </tr>\n",
       "    <tr>\n",
       "      <th>199998</th>\n",
       "      <td>335606</td>\n",
       "      <td>33671</td>\n",
       "      <td>0.273133</td>\n",
       "      <td>0.514271</td>\n",
       "      <td>0.212596</td>\n",
       "    </tr>\n",
       "    <tr>\n",
       "      <th>199999</th>\n",
       "      <td>1026827</td>\n",
       "      <td>33671</td>\n",
       "      <td>0.247878</td>\n",
       "      <td>0.504908</td>\n",
       "      <td>0.247214</td>\n",
       "    </tr>\n",
       "  </tbody>\n",
       "</table>\n",
       "<p>200000 rows × 5 columns</p>\n",
       "</div>"
      ],
      "text/plain": [
       "        user_id  recipe_id  prob_senti_pos  prob_senti_neu  prob_senti_neg\n",
       "0         38094      40893        0.244645        0.510024        0.245331\n",
       "1       1293707      40893        0.212580        0.541937        0.245482\n",
       "2          8937      44394        0.217615        0.504000        0.278385\n",
       "3        126440      85009        0.217029        0.562159        0.220812\n",
       "4         57222      85009        0.245181        0.516963        0.237855\n",
       "...         ...        ...             ...             ...             ...\n",
       "199995   486888      33671        0.290039        0.504268        0.205692\n",
       "199996  1133067      33671        0.214188        0.543682        0.242130\n",
       "199997   227456      33671        0.222121        0.489666        0.288212\n",
       "199998   335606      33671        0.273133        0.514271        0.212596\n",
       "199999  1026827      33671        0.247878        0.504908        0.247214\n",
       "\n",
       "[200000 rows x 5 columns]"
      ]
     },
     "execution_count": 43,
     "metadata": {},
     "output_type": "execute_result"
    }
   ],
   "source": [
    "Food_Ratings_final"
   ]
  },
  {
   "cell_type": "code",
   "execution_count": 44,
   "id": "23e77161",
   "metadata": {},
   "outputs": [
    {
     "data": {
      "text/plain": [
       "user_id           0\n",
       "recipe_id         0\n",
       "prob_senti_pos    0\n",
       "prob_senti_neu    0\n",
       "prob_senti_neg    0\n",
       "dtype: int64"
      ]
     },
     "execution_count": 44,
     "metadata": {},
     "output_type": "execute_result"
    }
   ],
   "source": [
    "Food_Ratings_final.isna().sum()"
   ]
  },
  {
   "cell_type": "code",
   "execution_count": 4,
   "id": "3ae01ec3",
   "metadata": {},
   "outputs": [],
   "source": [
    "# Similar to the above neural network with description, converting the user_id and recipe_id to categorical labels"
   ]
  },
  {
   "cell_type": "code",
   "execution_count": 45,
   "id": "cc84d7c3",
   "metadata": {},
   "outputs": [],
   "source": [
    "Food_Ratings_final['user_id'] = pd.Categorical(Food_Ratings_final['user_id'])\n",
    "Food_user = Food_Ratings_final['user_id'].cat.codes\n",
    "Food_Ratings_final['recipe_id'] = pd.Categorical(Food_Ratings_final['recipe_id'])\n",
    "Food_recipe = Food_Ratings_final['recipe_id'].cat.codes\n"
   ]
  },
  {
   "cell_type": "code",
   "execution_count": 46,
   "id": "d09e5b29",
   "metadata": {},
   "outputs": [
    {
     "data": {
      "text/html": [
       "<div>\n",
       "<style scoped>\n",
       "    .dataframe tbody tr th:only-of-type {\n",
       "        vertical-align: middle;\n",
       "    }\n",
       "\n",
       "    .dataframe tbody tr th {\n",
       "        vertical-align: top;\n",
       "    }\n",
       "\n",
       "    .dataframe thead th {\n",
       "        text-align: right;\n",
       "    }\n",
       "</style>\n",
       "<table border=\"1\" class=\"dataframe\">\n",
       "  <thead>\n",
       "    <tr style=\"text-align: right;\">\n",
       "      <th></th>\n",
       "      <th>user_id</th>\n",
       "      <th>recipe_id</th>\n",
       "      <th>prob_senti_pos</th>\n",
       "      <th>prob_senti_neu</th>\n",
       "      <th>prob_senti_neg</th>\n",
       "    </tr>\n",
       "  </thead>\n",
       "  <tbody>\n",
       "    <tr>\n",
       "      <th>0</th>\n",
       "      <td>38094</td>\n",
       "      <td>40893</td>\n",
       "      <td>0.244645</td>\n",
       "      <td>0.510024</td>\n",
       "      <td>0.245331</td>\n",
       "    </tr>\n",
       "    <tr>\n",
       "      <th>1</th>\n",
       "      <td>1293707</td>\n",
       "      <td>40893</td>\n",
       "      <td>0.212580</td>\n",
       "      <td>0.541937</td>\n",
       "      <td>0.245482</td>\n",
       "    </tr>\n",
       "    <tr>\n",
       "      <th>2</th>\n",
       "      <td>8937</td>\n",
       "      <td>44394</td>\n",
       "      <td>0.217615</td>\n",
       "      <td>0.504000</td>\n",
       "      <td>0.278385</td>\n",
       "    </tr>\n",
       "    <tr>\n",
       "      <th>3</th>\n",
       "      <td>126440</td>\n",
       "      <td>85009</td>\n",
       "      <td>0.217029</td>\n",
       "      <td>0.562159</td>\n",
       "      <td>0.220812</td>\n",
       "    </tr>\n",
       "    <tr>\n",
       "      <th>4</th>\n",
       "      <td>57222</td>\n",
       "      <td>85009</td>\n",
       "      <td>0.245181</td>\n",
       "      <td>0.516963</td>\n",
       "      <td>0.237855</td>\n",
       "    </tr>\n",
       "    <tr>\n",
       "      <th>...</th>\n",
       "      <td>...</td>\n",
       "      <td>...</td>\n",
       "      <td>...</td>\n",
       "      <td>...</td>\n",
       "      <td>...</td>\n",
       "    </tr>\n",
       "    <tr>\n",
       "      <th>199995</th>\n",
       "      <td>486888</td>\n",
       "      <td>33671</td>\n",
       "      <td>0.290039</td>\n",
       "      <td>0.504268</td>\n",
       "      <td>0.205692</td>\n",
       "    </tr>\n",
       "    <tr>\n",
       "      <th>199996</th>\n",
       "      <td>1133067</td>\n",
       "      <td>33671</td>\n",
       "      <td>0.214188</td>\n",
       "      <td>0.543682</td>\n",
       "      <td>0.242130</td>\n",
       "    </tr>\n",
       "    <tr>\n",
       "      <th>199997</th>\n",
       "      <td>227456</td>\n",
       "      <td>33671</td>\n",
       "      <td>0.222121</td>\n",
       "      <td>0.489666</td>\n",
       "      <td>0.288212</td>\n",
       "    </tr>\n",
       "    <tr>\n",
       "      <th>199998</th>\n",
       "      <td>335606</td>\n",
       "      <td>33671</td>\n",
       "      <td>0.273133</td>\n",
       "      <td>0.514271</td>\n",
       "      <td>0.212596</td>\n",
       "    </tr>\n",
       "    <tr>\n",
       "      <th>199999</th>\n",
       "      <td>1026827</td>\n",
       "      <td>33671</td>\n",
       "      <td>0.247878</td>\n",
       "      <td>0.504908</td>\n",
       "      <td>0.247214</td>\n",
       "    </tr>\n",
       "  </tbody>\n",
       "</table>\n",
       "<p>200000 rows × 5 columns</p>\n",
       "</div>"
      ],
      "text/plain": [
       "        user_id recipe_id  prob_senti_pos  prob_senti_neu  prob_senti_neg\n",
       "0         38094     40893        0.244645        0.510024        0.245331\n",
       "1       1293707     40893        0.212580        0.541937        0.245482\n",
       "2          8937     44394        0.217615        0.504000        0.278385\n",
       "3        126440     85009        0.217029        0.562159        0.220812\n",
       "4         57222     85009        0.245181        0.516963        0.237855\n",
       "...         ...       ...             ...             ...             ...\n",
       "199995   486888     33671        0.290039        0.504268        0.205692\n",
       "199996  1133067     33671        0.214188        0.543682        0.242130\n",
       "199997   227456     33671        0.222121        0.489666        0.288212\n",
       "199998   335606     33671        0.273133        0.514271        0.212596\n",
       "199999  1026827     33671        0.247878        0.504908        0.247214\n",
       "\n",
       "[200000 rows x 5 columns]"
      ]
     },
     "execution_count": 46,
     "metadata": {},
     "output_type": "execute_result"
    }
   ],
   "source": [
    "Food_Ratings_final"
   ]
  },
  {
   "cell_type": "code",
   "execution_count": 47,
   "id": "218b5e11",
   "metadata": {},
   "outputs": [],
   "source": [
    "Food_Ratings_final = Food_Ratings_final.drop(columns = [\"user_id\",\"recipe_id\"])"
   ]
  },
  {
   "cell_type": "code",
   "execution_count": 48,
   "id": "c90d6ba0",
   "metadata": {},
   "outputs": [
    {
     "data": {
      "text/plain": [
       "(40792, 63377, 1, 1, 3)"
      ]
     },
     "execution_count": 48,
     "metadata": {},
     "output_type": "execute_result"
    }
   ],
   "source": [
    "user_id = Food_user.max() \n",
    "recipe_id = Food_recipe.max()\n",
    "recipe_input_dim = 1\n",
    "user_input_dim = 1\n",
    "Food_Ratings_final_dim = Food_Ratings_final.shape[1]\n",
    "\n",
    "recipe_id,user_id,recipe_input_dim,user_input_dim,Food_Ratings_final_dim"
   ]
  },
  {
   "cell_type": "code",
   "execution_count": 49,
   "id": "c9eead76",
   "metadata": {},
   "outputs": [
    {
     "data": {
      "text/plain": [
       "(63377, 40792)"
      ]
     },
     "execution_count": 49,
     "metadata": {},
     "output_type": "execute_result"
    }
   ],
   "source": [
    "Food_user.max(),Food_recipe.max()"
   ]
  },
  {
   "cell_type": "code",
   "execution_count": 50,
   "id": "5b1382d6",
   "metadata": {},
   "outputs": [
    {
     "data": {
      "text/plain": [
       "3"
      ]
     },
     "execution_count": 50,
     "metadata": {},
     "output_type": "execute_result"
    }
   ],
   "source": [
    "Food_Ratings_final_dim"
   ]
  },
  {
   "cell_type": "code",
   "execution_count": 51,
   "id": "9d7b2f70",
   "metadata": {},
   "outputs": [],
   "source": [
    "#Embedding layer for users\n",
    "users_input = Input(shape=(user_input_dim,))\n",
    "embedding_layer_users = Embedding(user_id+1 ,10, embeddings_regularizer=regularizers.L2(0))(users_input)\n",
    "embedding_output_users = Flatten()(embedding_layer_users)\n",
    "\n",
    "#Embedding layer for recipe\n",
    "recipe_input = Input(shape=(recipe_input_dim,))\n",
    "embedding_layer_recipe = Embedding(recipe_id+1 ,10, embeddings_regularizer=regularizers.L2(0))(recipe_input)\n",
    "embedding_output_recipe = Flatten()(embedding_layer_recipe)\n",
    "\n",
    "\n",
    "# #Embedding layer for meta data\n",
    "meta_input = Input(shape=(Food_Ratings_final_dim,), name='metadata_input')\n",
    "dense_layer = Dense(64, activation='relu')(meta_input)\n",
    "metadata_embedding = Dense(10, activation='relu',name='metadata_embedding')(dense_layer)\n",
    "\n",
    "#Concatination and Dense layer\n",
    "Merged_Embeddings = Concatenate()([embedding_output_recipe, embedding_output_users,metadata_embedding])# metadata_embedding\n",
    "hidden_layer = Dense(32, activation='relu', kernel_regularizer=regularizers.L2(0))(Merged_Embeddings)\n",
    "\n",
    "output_layer = Dense(1, kernel_initializer='lecun_uniform')(hidden_layer)\n",
    "\n",
    "model2 = tf.keras.Model([recipe_input, users_input,meta_input], output_layer) #"
   ]
  },
  {
   "cell_type": "code",
   "execution_count": 52,
   "id": "3e2f8041",
   "metadata": {
    "scrolled": true
   },
   "outputs": [
    {
     "name": "stdout",
     "output_type": "stream",
     "text": [
      "Model: \"model_1\"\n",
      "__________________________________________________________________________________________________\n",
      " Layer (type)                   Output Shape         Param #     Connected to                     \n",
      "==================================================================================================\n",
      " input_3 (InputLayer)           [(None, 1)]          0           []                               \n",
      "                                                                                                  \n",
      " input_4 (InputLayer)           [(None, 1)]          0           []                               \n",
      "                                                                                                  \n",
      " metadata_input (InputLayer)    [(None, 3)]          0           []                               \n",
      "                                                                                                  \n",
      " embedding_2 (Embedding)        (None, 1, 10)        407930      ['input_3[0][0]']                \n",
      "                                                                                                  \n",
      " embedding_3 (Embedding)        (None, 1, 10)        633780      ['input_4[0][0]']                \n",
      "                                                                                                  \n",
      " dense_3 (Dense)                (None, 64)           256         ['metadata_input[0][0]']         \n",
      "                                                                                                  \n",
      " flatten_2 (Flatten)            (None, 10)           0           ['embedding_2[0][0]']            \n",
      "                                                                                                  \n",
      " flatten_3 (Flatten)            (None, 10)           0           ['embedding_3[0][0]']            \n",
      "                                                                                                  \n",
      " metadata_embedding (Dense)     (None, 10)           650         ['dense_3[0][0]']                \n",
      "                                                                                                  \n",
      " concatenate_1 (Concatenate)    (None, 30)           0           ['flatten_2[0][0]',              \n",
      "                                                                  'flatten_3[0][0]',              \n",
      "                                                                  'metadata_embedding[0][0]']     \n",
      "                                                                                                  \n",
      " dense_4 (Dense)                (None, 32)           992         ['concatenate_1[0][0]']          \n",
      "                                                                                                  \n",
      " dense_5 (Dense)                (None, 1)            33          ['dense_4[0][0]']                \n",
      "                                                                                                  \n",
      "==================================================================================================\n",
      "Total params: 1,043,641\n",
      "Trainable params: 1,043,641\n",
      "Non-trainable params: 0\n",
      "__________________________________________________________________________________________________\n"
     ]
    },
    {
     "name": "stderr",
     "output_type": "stream",
     "text": [
      "C:\\Users\\pruth\\anaconda3\\lib\\site-packages\\keras\\optimizers\\optimizer_v2\\adam.py:110: UserWarning: The `lr` argument is deprecated, use `learning_rate` instead.\n",
      "  super(Adam, self).__init__(name, **kwargs)\n"
     ]
    }
   ],
   "source": [
    "#Model compilation\n",
    "\n",
    "optimizer = Adam(lr=1e-3, epsilon = 1e-7, amsgrad=True) #epsilon = decay rate\n",
    "model2.compile(optimizer='adam', loss='mse', metrics=[tf.keras.metrics.RootMeanSquaredError()])\n",
    "model2.summary()"
   ]
  },
  {
   "cell_type": "code",
   "execution_count": 53,
   "id": "9aad2b09",
   "metadata": {},
   "outputs": [
    {
     "data": {
      "text/plain": [
       "0         4\n",
       "1         5\n",
       "2         4\n",
       "3         5\n",
       "4         5\n",
       "         ..\n",
       "199995    5\n",
       "199996    0\n",
       "199997    5\n",
       "199998    4\n",
       "199999    5\n",
       "Name: rating_x, Length: 200000, dtype: int64"
      ]
     },
     "execution_count": 53,
     "metadata": {},
     "output_type": "execute_result"
    }
   ],
   "source": [
    "training_output"
   ]
  },
  {
   "cell_type": "code",
   "execution_count": 54,
   "id": "81fed229",
   "metadata": {},
   "outputs": [
    {
     "data": {
      "text/plain": [
       "((200000,), (200000,), (200000, 3))"
      ]
     },
     "execution_count": 54,
     "metadata": {},
     "output_type": "execute_result"
    }
   ],
   "source": [
    "x=180000\n",
    "Food_recipe.shape, Food_user.shape,Food_Ratings_final.shape"
   ]
  },
  {
   "cell_type": "code",
   "execution_count": 55,
   "id": "91b607a9",
   "metadata": {},
   "outputs": [
    {
     "name": "stdout",
     "output_type": "stream",
     "text": [
      "Epoch 1/10\n",
      "563/563 [==============================] - 3s 4ms/step - loss: 3.6390 - root_mean_squared_error: 1.9076 - val_loss: 1.5783 - val_root_mean_squared_error: 1.2563\n",
      "Epoch 2/10\n",
      "563/563 [==============================] - 2s 4ms/step - loss: 1.2388 - root_mean_squared_error: 1.1130 - val_loss: 1.6513 - val_root_mean_squared_error: 1.2850\n",
      "Epoch 3/10\n",
      "563/563 [==============================] - 2s 4ms/step - loss: 0.8455 - root_mean_squared_error: 0.9195 - val_loss: 1.8926 - val_root_mean_squared_error: 1.3757\n",
      "Epoch 4/10\n",
      "563/563 [==============================] - 3s 5ms/step - loss: 0.5966 - root_mean_squared_error: 0.7724 - val_loss: 2.0403 - val_root_mean_squared_error: 1.4284\n"
     ]
    }
   ],
   "source": [
    "Final_list = [Food_recipe[:x], Food_user[:x],Food_Ratings_final[:x]]\n",
    "\n",
    "early_stopping = EarlyStopping(monitor = 'val_loss', patience = 3)\n",
    "\n",
    "Neural_nets = model2.fit(\n",
    "  Final_list, training_output, batch_size=256, epochs=10, \n",
    "  verbose=1, callbacks = [early_stopping], validation_split=0.2\n",
    ")"
   ]
  },
  {
   "cell_type": "code",
   "execution_count": 56,
   "id": "a330b6b7",
   "metadata": {},
   "outputs": [
    {
     "name": "stdout",
     "output_type": "stream",
     "text": [
      "625/625 [==============================] - 0s 539us/step\n"
     ]
    }
   ],
   "source": [
    "Predictions = model2.predict([Food_recipe[x:],Food_user[x:],Food_Ratings_final[x:]])"
   ]
  },
  {
   "cell_type": "code",
   "execution_count": 57,
   "id": "14aa5972",
   "metadata": {},
   "outputs": [
    {
     "data": {
      "text/plain": [
       "1.990440783733534"
      ]
     },
     "execution_count": 57,
     "metadata": {},
     "output_type": "execute_result"
    }
   ],
   "source": [
    "mean_squared_error(Predictions,FoodRatings_merge[\"rating_x\"][x:])"
   ]
  },
  {
   "cell_type": "code",
   "execution_count": 58,
   "id": "4a19075a",
   "metadata": {},
   "outputs": [
    {
     "data": {
      "text/plain": [
       "array([[4.223145 ],\n",
       "       [2.6213355],\n",
       "       [4.478092 ],\n",
       "       ...,\n",
       "       [3.1885448],\n",
       "       [3.430773 ],\n",
       "       [2.6262531]], dtype=float32)"
      ]
     },
     "execution_count": 58,
     "metadata": {},
     "output_type": "execute_result"
    }
   ],
   "source": [
    "Predictions"
   ]
  },
  {
   "cell_type": "code",
   "execution_count": null,
   "id": "a761db72",
   "metadata": {},
   "outputs": [],
   "source": []
  }
 ],
 "metadata": {
  "kernelspec": {
   "display_name": "Python 3 (ipykernel)",
   "language": "python",
   "name": "python3"
  },
  "language_info": {
   "codemirror_mode": {
    "name": "ipython",
    "version": 3
   },
   "file_extension": ".py",
   "mimetype": "text/x-python",
   "name": "python",
   "nbconvert_exporter": "python",
   "pygments_lexer": "ipython3",
   "version": "3.9.12"
  }
 },
 "nbformat": 4,
 "nbformat_minor": 5
}
